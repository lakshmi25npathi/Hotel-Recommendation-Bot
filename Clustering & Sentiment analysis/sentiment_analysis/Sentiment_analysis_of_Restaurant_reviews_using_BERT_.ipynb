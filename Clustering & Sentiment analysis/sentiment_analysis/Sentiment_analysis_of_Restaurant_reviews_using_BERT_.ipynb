{
  "nbformat": 4,
  "nbformat_minor": 0,
  "metadata": {
    "language_info": {
      "codemirror_mode": {
        "name": "ipython",
        "version": 3
      },
      "file_extension": ".py",
      "mimetype": "text/x-python",
      "name": "python",
      "nbconvert_exporter": "python",
      "pygments_lexer": "ipython3",
      "version": "3.6.9-final"
    },
    "orig_nbformat": 2,
    "kernelspec": {
      "name": "python3",
      "display_name": "Python 3.6.9 64-bit",
      "metadata": {
        "interpreter": {
          "hash": "31f2aee4e71d21fbe5cf8b01ff0e069b9275f58929596ceb00d14d90e3e16cd6"
        }
      }
    },
    "colab": {
      "name": "Sentiment analysis of Restaurant reviews using BERT..ipynb",
      "provenance": [],
      "collapsed_sections": []
    },
    "accelerator": "GPU",
    "widgets": {
      "application/vnd.jupyter.widget-state+json": {
        "a3658514c8a341e3b792a8d8c871ec12": {
          "model_module": "@jupyter-widgets/controls",
          "model_name": "HBoxModel",
          "state": {
            "_view_name": "HBoxView",
            "_dom_classes": [],
            "_model_name": "HBoxModel",
            "_view_module": "@jupyter-widgets/controls",
            "_model_module_version": "1.5.0",
            "_view_count": null,
            "_view_module_version": "1.5.0",
            "box_style": "",
            "layout": "IPY_MODEL_2699bf1135304a08b391356dd032f832",
            "_model_module": "@jupyter-widgets/controls",
            "children": [
              "IPY_MODEL_f7b46de915844107b11e3bc499d8a294",
              "IPY_MODEL_7e0437c508604bf5b0124d0a5cea2cea"
            ]
          }
        },
        "2699bf1135304a08b391356dd032f832": {
          "model_module": "@jupyter-widgets/base",
          "model_name": "LayoutModel",
          "state": {
            "_view_name": "LayoutView",
            "grid_template_rows": null,
            "right": null,
            "justify_content": null,
            "_view_module": "@jupyter-widgets/base",
            "overflow": null,
            "_model_module_version": "1.2.0",
            "_view_count": null,
            "flex_flow": null,
            "width": null,
            "min_width": null,
            "border": null,
            "align_items": null,
            "bottom": null,
            "_model_module": "@jupyter-widgets/base",
            "top": null,
            "grid_column": null,
            "overflow_y": null,
            "overflow_x": null,
            "grid_auto_flow": null,
            "grid_area": null,
            "grid_template_columns": null,
            "flex": null,
            "_model_name": "LayoutModel",
            "justify_items": null,
            "grid_row": null,
            "max_height": null,
            "align_content": null,
            "visibility": null,
            "align_self": null,
            "height": null,
            "min_height": null,
            "padding": null,
            "grid_auto_rows": null,
            "grid_gap": null,
            "max_width": null,
            "order": null,
            "_view_module_version": "1.2.0",
            "grid_template_areas": null,
            "object_position": null,
            "object_fit": null,
            "grid_auto_columns": null,
            "margin": null,
            "display": null,
            "left": null
          }
        },
        "f7b46de915844107b11e3bc499d8a294": {
          "model_module": "@jupyter-widgets/controls",
          "model_name": "FloatProgressModel",
          "state": {
            "_view_name": "ProgressView",
            "style": "IPY_MODEL_c1dae50dccf748da8ec1a8673ce70ab8",
            "_dom_classes": [],
            "description": "Downloading: 100%",
            "_model_name": "FloatProgressModel",
            "bar_style": "success",
            "max": 231508,
            "_view_module": "@jupyter-widgets/controls",
            "_model_module_version": "1.5.0",
            "value": 231508,
            "_view_count": null,
            "_view_module_version": "1.5.0",
            "orientation": "horizontal",
            "min": 0,
            "description_tooltip": null,
            "_model_module": "@jupyter-widgets/controls",
            "layout": "IPY_MODEL_645834705cf84d6480729a833e2cab1f"
          }
        },
        "7e0437c508604bf5b0124d0a5cea2cea": {
          "model_module": "@jupyter-widgets/controls",
          "model_name": "HTMLModel",
          "state": {
            "_view_name": "HTMLView",
            "style": "IPY_MODEL_5810f6bbf3c64d98a3f581628a085a9d",
            "_dom_classes": [],
            "description": "",
            "_model_name": "HTMLModel",
            "placeholder": "​",
            "_view_module": "@jupyter-widgets/controls",
            "_model_module_version": "1.5.0",
            "value": " 232k/232k [00:00&lt;00:00, 1.11MB/s]",
            "_view_count": null,
            "_view_module_version": "1.5.0",
            "description_tooltip": null,
            "_model_module": "@jupyter-widgets/controls",
            "layout": "IPY_MODEL_b407446cf2e343dc844cb427ee8a6088"
          }
        },
        "c1dae50dccf748da8ec1a8673ce70ab8": {
          "model_module": "@jupyter-widgets/controls",
          "model_name": "ProgressStyleModel",
          "state": {
            "_view_name": "StyleView",
            "_model_name": "ProgressStyleModel",
            "description_width": "initial",
            "_view_module": "@jupyter-widgets/base",
            "_model_module_version": "1.5.0",
            "_view_count": null,
            "_view_module_version": "1.2.0",
            "bar_color": null,
            "_model_module": "@jupyter-widgets/controls"
          }
        },
        "645834705cf84d6480729a833e2cab1f": {
          "model_module": "@jupyter-widgets/base",
          "model_name": "LayoutModel",
          "state": {
            "_view_name": "LayoutView",
            "grid_template_rows": null,
            "right": null,
            "justify_content": null,
            "_view_module": "@jupyter-widgets/base",
            "overflow": null,
            "_model_module_version": "1.2.0",
            "_view_count": null,
            "flex_flow": null,
            "width": null,
            "min_width": null,
            "border": null,
            "align_items": null,
            "bottom": null,
            "_model_module": "@jupyter-widgets/base",
            "top": null,
            "grid_column": null,
            "overflow_y": null,
            "overflow_x": null,
            "grid_auto_flow": null,
            "grid_area": null,
            "grid_template_columns": null,
            "flex": null,
            "_model_name": "LayoutModel",
            "justify_items": null,
            "grid_row": null,
            "max_height": null,
            "align_content": null,
            "visibility": null,
            "align_self": null,
            "height": null,
            "min_height": null,
            "padding": null,
            "grid_auto_rows": null,
            "grid_gap": null,
            "max_width": null,
            "order": null,
            "_view_module_version": "1.2.0",
            "grid_template_areas": null,
            "object_position": null,
            "object_fit": null,
            "grid_auto_columns": null,
            "margin": null,
            "display": null,
            "left": null
          }
        },
        "5810f6bbf3c64d98a3f581628a085a9d": {
          "model_module": "@jupyter-widgets/controls",
          "model_name": "DescriptionStyleModel",
          "state": {
            "_view_name": "StyleView",
            "_model_name": "DescriptionStyleModel",
            "description_width": "",
            "_view_module": "@jupyter-widgets/base",
            "_model_module_version": "1.5.0",
            "_view_count": null,
            "_view_module_version": "1.2.0",
            "_model_module": "@jupyter-widgets/controls"
          }
        },
        "b407446cf2e343dc844cb427ee8a6088": {
          "model_module": "@jupyter-widgets/base",
          "model_name": "LayoutModel",
          "state": {
            "_view_name": "LayoutView",
            "grid_template_rows": null,
            "right": null,
            "justify_content": null,
            "_view_module": "@jupyter-widgets/base",
            "overflow": null,
            "_model_module_version": "1.2.0",
            "_view_count": null,
            "flex_flow": null,
            "width": null,
            "min_width": null,
            "border": null,
            "align_items": null,
            "bottom": null,
            "_model_module": "@jupyter-widgets/base",
            "top": null,
            "grid_column": null,
            "overflow_y": null,
            "overflow_x": null,
            "grid_auto_flow": null,
            "grid_area": null,
            "grid_template_columns": null,
            "flex": null,
            "_model_name": "LayoutModel",
            "justify_items": null,
            "grid_row": null,
            "max_height": null,
            "align_content": null,
            "visibility": null,
            "align_self": null,
            "height": null,
            "min_height": null,
            "padding": null,
            "grid_auto_rows": null,
            "grid_gap": null,
            "max_width": null,
            "order": null,
            "_view_module_version": "1.2.0",
            "grid_template_areas": null,
            "object_position": null,
            "object_fit": null,
            "grid_auto_columns": null,
            "margin": null,
            "display": null,
            "left": null
          }
        },
        "a7cd9ca02cfc4906b54a0f3cd1d1dbac": {
          "model_module": "@jupyter-widgets/controls",
          "model_name": "HBoxModel",
          "state": {
            "_view_name": "HBoxView",
            "_dom_classes": [],
            "_model_name": "HBoxModel",
            "_view_module": "@jupyter-widgets/controls",
            "_model_module_version": "1.5.0",
            "_view_count": null,
            "_view_module_version": "1.5.0",
            "box_style": "",
            "layout": "IPY_MODEL_1fe3233a33494d06b8e5dfebebafdf67",
            "_model_module": "@jupyter-widgets/controls",
            "children": [
              "IPY_MODEL_3a225230df224d9b88ec4b9eb96c0453",
              "IPY_MODEL_6dbfc9e31672459c9f2168933b0ceb56"
            ]
          }
        },
        "1fe3233a33494d06b8e5dfebebafdf67": {
          "model_module": "@jupyter-widgets/base",
          "model_name": "LayoutModel",
          "state": {
            "_view_name": "LayoutView",
            "grid_template_rows": null,
            "right": null,
            "justify_content": null,
            "_view_module": "@jupyter-widgets/base",
            "overflow": null,
            "_model_module_version": "1.2.0",
            "_view_count": null,
            "flex_flow": null,
            "width": null,
            "min_width": null,
            "border": null,
            "align_items": null,
            "bottom": null,
            "_model_module": "@jupyter-widgets/base",
            "top": null,
            "grid_column": null,
            "overflow_y": null,
            "overflow_x": null,
            "grid_auto_flow": null,
            "grid_area": null,
            "grid_template_columns": null,
            "flex": null,
            "_model_name": "LayoutModel",
            "justify_items": null,
            "grid_row": null,
            "max_height": null,
            "align_content": null,
            "visibility": null,
            "align_self": null,
            "height": null,
            "min_height": null,
            "padding": null,
            "grid_auto_rows": null,
            "grid_gap": null,
            "max_width": null,
            "order": null,
            "_view_module_version": "1.2.0",
            "grid_template_areas": null,
            "object_position": null,
            "object_fit": null,
            "grid_auto_columns": null,
            "margin": null,
            "display": null,
            "left": null
          }
        },
        "3a225230df224d9b88ec4b9eb96c0453": {
          "model_module": "@jupyter-widgets/controls",
          "model_name": "FloatProgressModel",
          "state": {
            "_view_name": "ProgressView",
            "style": "IPY_MODEL_17e50af6851d4e61a747abf055f076fc",
            "_dom_classes": [],
            "description": "Downloading: 100%",
            "_model_name": "FloatProgressModel",
            "bar_style": "success",
            "max": 28,
            "_view_module": "@jupyter-widgets/controls",
            "_model_module_version": "1.5.0",
            "value": 28,
            "_view_count": null,
            "_view_module_version": "1.5.0",
            "orientation": "horizontal",
            "min": 0,
            "description_tooltip": null,
            "_model_module": "@jupyter-widgets/controls",
            "layout": "IPY_MODEL_26fb6ad9b7404a94b908f5764c24b32f"
          }
        },
        "6dbfc9e31672459c9f2168933b0ceb56": {
          "model_module": "@jupyter-widgets/controls",
          "model_name": "HTMLModel",
          "state": {
            "_view_name": "HTMLView",
            "style": "IPY_MODEL_6bab657c34ca46e5b875225b2bb340c1",
            "_dom_classes": [],
            "description": "",
            "_model_name": "HTMLModel",
            "placeholder": "​",
            "_view_module": "@jupyter-widgets/controls",
            "_model_module_version": "1.5.0",
            "value": " 28.0/28.0 [00:00&lt;00:00, 321B/s]",
            "_view_count": null,
            "_view_module_version": "1.5.0",
            "description_tooltip": null,
            "_model_module": "@jupyter-widgets/controls",
            "layout": "IPY_MODEL_1745ba2ed62644579a6723a07b433326"
          }
        },
        "17e50af6851d4e61a747abf055f076fc": {
          "model_module": "@jupyter-widgets/controls",
          "model_name": "ProgressStyleModel",
          "state": {
            "_view_name": "StyleView",
            "_model_name": "ProgressStyleModel",
            "description_width": "initial",
            "_view_module": "@jupyter-widgets/base",
            "_model_module_version": "1.5.0",
            "_view_count": null,
            "_view_module_version": "1.2.0",
            "bar_color": null,
            "_model_module": "@jupyter-widgets/controls"
          }
        },
        "26fb6ad9b7404a94b908f5764c24b32f": {
          "model_module": "@jupyter-widgets/base",
          "model_name": "LayoutModel",
          "state": {
            "_view_name": "LayoutView",
            "grid_template_rows": null,
            "right": null,
            "justify_content": null,
            "_view_module": "@jupyter-widgets/base",
            "overflow": null,
            "_model_module_version": "1.2.0",
            "_view_count": null,
            "flex_flow": null,
            "width": null,
            "min_width": null,
            "border": null,
            "align_items": null,
            "bottom": null,
            "_model_module": "@jupyter-widgets/base",
            "top": null,
            "grid_column": null,
            "overflow_y": null,
            "overflow_x": null,
            "grid_auto_flow": null,
            "grid_area": null,
            "grid_template_columns": null,
            "flex": null,
            "_model_name": "LayoutModel",
            "justify_items": null,
            "grid_row": null,
            "max_height": null,
            "align_content": null,
            "visibility": null,
            "align_self": null,
            "height": null,
            "min_height": null,
            "padding": null,
            "grid_auto_rows": null,
            "grid_gap": null,
            "max_width": null,
            "order": null,
            "_view_module_version": "1.2.0",
            "grid_template_areas": null,
            "object_position": null,
            "object_fit": null,
            "grid_auto_columns": null,
            "margin": null,
            "display": null,
            "left": null
          }
        },
        "6bab657c34ca46e5b875225b2bb340c1": {
          "model_module": "@jupyter-widgets/controls",
          "model_name": "DescriptionStyleModel",
          "state": {
            "_view_name": "StyleView",
            "_model_name": "DescriptionStyleModel",
            "description_width": "",
            "_view_module": "@jupyter-widgets/base",
            "_model_module_version": "1.5.0",
            "_view_count": null,
            "_view_module_version": "1.2.0",
            "_model_module": "@jupyter-widgets/controls"
          }
        },
        "1745ba2ed62644579a6723a07b433326": {
          "model_module": "@jupyter-widgets/base",
          "model_name": "LayoutModel",
          "state": {
            "_view_name": "LayoutView",
            "grid_template_rows": null,
            "right": null,
            "justify_content": null,
            "_view_module": "@jupyter-widgets/base",
            "overflow": null,
            "_model_module_version": "1.2.0",
            "_view_count": null,
            "flex_flow": null,
            "width": null,
            "min_width": null,
            "border": null,
            "align_items": null,
            "bottom": null,
            "_model_module": "@jupyter-widgets/base",
            "top": null,
            "grid_column": null,
            "overflow_y": null,
            "overflow_x": null,
            "grid_auto_flow": null,
            "grid_area": null,
            "grid_template_columns": null,
            "flex": null,
            "_model_name": "LayoutModel",
            "justify_items": null,
            "grid_row": null,
            "max_height": null,
            "align_content": null,
            "visibility": null,
            "align_self": null,
            "height": null,
            "min_height": null,
            "padding": null,
            "grid_auto_rows": null,
            "grid_gap": null,
            "max_width": null,
            "order": null,
            "_view_module_version": "1.2.0",
            "grid_template_areas": null,
            "object_position": null,
            "object_fit": null,
            "grid_auto_columns": null,
            "margin": null,
            "display": null,
            "left": null
          }
        },
        "742ea4da391d40e2a7aec64762ff2669": {
          "model_module": "@jupyter-widgets/controls",
          "model_name": "HBoxModel",
          "state": {
            "_view_name": "HBoxView",
            "_dom_classes": [],
            "_model_name": "HBoxModel",
            "_view_module": "@jupyter-widgets/controls",
            "_model_module_version": "1.5.0",
            "_view_count": null,
            "_view_module_version": "1.5.0",
            "box_style": "",
            "layout": "IPY_MODEL_37bab399a9584a4e89d7ed2d5b1bc2bf",
            "_model_module": "@jupyter-widgets/controls",
            "children": [
              "IPY_MODEL_70b5abcf64bf4d2d99bb7cb0d9b8857e",
              "IPY_MODEL_5c10929ac134474ca71ac682ab8329fa"
            ]
          }
        },
        "37bab399a9584a4e89d7ed2d5b1bc2bf": {
          "model_module": "@jupyter-widgets/base",
          "model_name": "LayoutModel",
          "state": {
            "_view_name": "LayoutView",
            "grid_template_rows": null,
            "right": null,
            "justify_content": null,
            "_view_module": "@jupyter-widgets/base",
            "overflow": null,
            "_model_module_version": "1.2.0",
            "_view_count": null,
            "flex_flow": null,
            "width": null,
            "min_width": null,
            "border": null,
            "align_items": null,
            "bottom": null,
            "_model_module": "@jupyter-widgets/base",
            "top": null,
            "grid_column": null,
            "overflow_y": null,
            "overflow_x": null,
            "grid_auto_flow": null,
            "grid_area": null,
            "grid_template_columns": null,
            "flex": null,
            "_model_name": "LayoutModel",
            "justify_items": null,
            "grid_row": null,
            "max_height": null,
            "align_content": null,
            "visibility": null,
            "align_self": null,
            "height": null,
            "min_height": null,
            "padding": null,
            "grid_auto_rows": null,
            "grid_gap": null,
            "max_width": null,
            "order": null,
            "_view_module_version": "1.2.0",
            "grid_template_areas": null,
            "object_position": null,
            "object_fit": null,
            "grid_auto_columns": null,
            "margin": null,
            "display": null,
            "left": null
          }
        },
        "70b5abcf64bf4d2d99bb7cb0d9b8857e": {
          "model_module": "@jupyter-widgets/controls",
          "model_name": "FloatProgressModel",
          "state": {
            "_view_name": "ProgressView",
            "style": "IPY_MODEL_131a001daf0547a384b53691f496e80d",
            "_dom_classes": [],
            "description": "Downloading: 100%",
            "_model_name": "FloatProgressModel",
            "bar_style": "success",
            "max": 466062,
            "_view_module": "@jupyter-widgets/controls",
            "_model_module_version": "1.5.0",
            "value": 466062,
            "_view_count": null,
            "_view_module_version": "1.5.0",
            "orientation": "horizontal",
            "min": 0,
            "description_tooltip": null,
            "_model_module": "@jupyter-widgets/controls",
            "layout": "IPY_MODEL_4d9536f94f354572a04849fb546f8e3d"
          }
        },
        "5c10929ac134474ca71ac682ab8329fa": {
          "model_module": "@jupyter-widgets/controls",
          "model_name": "HTMLModel",
          "state": {
            "_view_name": "HTMLView",
            "style": "IPY_MODEL_d9f8566bbc064d6a9b1d922c8679b88d",
            "_dom_classes": [],
            "description": "",
            "_model_name": "HTMLModel",
            "placeholder": "​",
            "_view_module": "@jupyter-widgets/controls",
            "_model_module_version": "1.5.0",
            "value": " 466k/466k [00:00&lt;00:00, 5.27MB/s]",
            "_view_count": null,
            "_view_module_version": "1.5.0",
            "description_tooltip": null,
            "_model_module": "@jupyter-widgets/controls",
            "layout": "IPY_MODEL_be02f552be584981bc90a70ca0e2c43d"
          }
        },
        "131a001daf0547a384b53691f496e80d": {
          "model_module": "@jupyter-widgets/controls",
          "model_name": "ProgressStyleModel",
          "state": {
            "_view_name": "StyleView",
            "_model_name": "ProgressStyleModel",
            "description_width": "initial",
            "_view_module": "@jupyter-widgets/base",
            "_model_module_version": "1.5.0",
            "_view_count": null,
            "_view_module_version": "1.2.0",
            "bar_color": null,
            "_model_module": "@jupyter-widgets/controls"
          }
        },
        "4d9536f94f354572a04849fb546f8e3d": {
          "model_module": "@jupyter-widgets/base",
          "model_name": "LayoutModel",
          "state": {
            "_view_name": "LayoutView",
            "grid_template_rows": null,
            "right": null,
            "justify_content": null,
            "_view_module": "@jupyter-widgets/base",
            "overflow": null,
            "_model_module_version": "1.2.0",
            "_view_count": null,
            "flex_flow": null,
            "width": null,
            "min_width": null,
            "border": null,
            "align_items": null,
            "bottom": null,
            "_model_module": "@jupyter-widgets/base",
            "top": null,
            "grid_column": null,
            "overflow_y": null,
            "overflow_x": null,
            "grid_auto_flow": null,
            "grid_area": null,
            "grid_template_columns": null,
            "flex": null,
            "_model_name": "LayoutModel",
            "justify_items": null,
            "grid_row": null,
            "max_height": null,
            "align_content": null,
            "visibility": null,
            "align_self": null,
            "height": null,
            "min_height": null,
            "padding": null,
            "grid_auto_rows": null,
            "grid_gap": null,
            "max_width": null,
            "order": null,
            "_view_module_version": "1.2.0",
            "grid_template_areas": null,
            "object_position": null,
            "object_fit": null,
            "grid_auto_columns": null,
            "margin": null,
            "display": null,
            "left": null
          }
        },
        "d9f8566bbc064d6a9b1d922c8679b88d": {
          "model_module": "@jupyter-widgets/controls",
          "model_name": "DescriptionStyleModel",
          "state": {
            "_view_name": "StyleView",
            "_model_name": "DescriptionStyleModel",
            "description_width": "",
            "_view_module": "@jupyter-widgets/base",
            "_model_module_version": "1.5.0",
            "_view_count": null,
            "_view_module_version": "1.2.0",
            "_model_module": "@jupyter-widgets/controls"
          }
        },
        "be02f552be584981bc90a70ca0e2c43d": {
          "model_module": "@jupyter-widgets/base",
          "model_name": "LayoutModel",
          "state": {
            "_view_name": "LayoutView",
            "grid_template_rows": null,
            "right": null,
            "justify_content": null,
            "_view_module": "@jupyter-widgets/base",
            "overflow": null,
            "_model_module_version": "1.2.0",
            "_view_count": null,
            "flex_flow": null,
            "width": null,
            "min_width": null,
            "border": null,
            "align_items": null,
            "bottom": null,
            "_model_module": "@jupyter-widgets/base",
            "top": null,
            "grid_column": null,
            "overflow_y": null,
            "overflow_x": null,
            "grid_auto_flow": null,
            "grid_area": null,
            "grid_template_columns": null,
            "flex": null,
            "_model_name": "LayoutModel",
            "justify_items": null,
            "grid_row": null,
            "max_height": null,
            "align_content": null,
            "visibility": null,
            "align_self": null,
            "height": null,
            "min_height": null,
            "padding": null,
            "grid_auto_rows": null,
            "grid_gap": null,
            "max_width": null,
            "order": null,
            "_view_module_version": "1.2.0",
            "grid_template_areas": null,
            "object_position": null,
            "object_fit": null,
            "grid_auto_columns": null,
            "margin": null,
            "display": null,
            "left": null
          }
        },
        "13744243d52145459c861f2fe6078510": {
          "model_module": "@jupyter-widgets/controls",
          "model_name": "HBoxModel",
          "state": {
            "_view_name": "HBoxView",
            "_dom_classes": [],
            "_model_name": "HBoxModel",
            "_view_module": "@jupyter-widgets/controls",
            "_model_module_version": "1.5.0",
            "_view_count": null,
            "_view_module_version": "1.5.0",
            "box_style": "",
            "layout": "IPY_MODEL_91894e173db44225a42c9db45a4bbf61",
            "_model_module": "@jupyter-widgets/controls",
            "children": [
              "IPY_MODEL_63da01dc4ae74d34b883f5f48d986975",
              "IPY_MODEL_f157d79bc6f345e6909b35719d4bdef2"
            ]
          }
        },
        "91894e173db44225a42c9db45a4bbf61": {
          "model_module": "@jupyter-widgets/base",
          "model_name": "LayoutModel",
          "state": {
            "_view_name": "LayoutView",
            "grid_template_rows": null,
            "right": null,
            "justify_content": null,
            "_view_module": "@jupyter-widgets/base",
            "overflow": null,
            "_model_module_version": "1.2.0",
            "_view_count": null,
            "flex_flow": null,
            "width": null,
            "min_width": null,
            "border": null,
            "align_items": null,
            "bottom": null,
            "_model_module": "@jupyter-widgets/base",
            "top": null,
            "grid_column": null,
            "overflow_y": null,
            "overflow_x": null,
            "grid_auto_flow": null,
            "grid_area": null,
            "grid_template_columns": null,
            "flex": null,
            "_model_name": "LayoutModel",
            "justify_items": null,
            "grid_row": null,
            "max_height": null,
            "align_content": null,
            "visibility": null,
            "align_self": null,
            "height": null,
            "min_height": null,
            "padding": null,
            "grid_auto_rows": null,
            "grid_gap": null,
            "max_width": null,
            "order": null,
            "_view_module_version": "1.2.0",
            "grid_template_areas": null,
            "object_position": null,
            "object_fit": null,
            "grid_auto_columns": null,
            "margin": null,
            "display": null,
            "left": null
          }
        },
        "63da01dc4ae74d34b883f5f48d986975": {
          "model_module": "@jupyter-widgets/controls",
          "model_name": "FloatProgressModel",
          "state": {
            "_view_name": "ProgressView",
            "style": "IPY_MODEL_989375acf8194ee9b940614b899d52bc",
            "_dom_classes": [],
            "description": "Downloading: 100%",
            "_model_name": "FloatProgressModel",
            "bar_style": "success",
            "max": 570,
            "_view_module": "@jupyter-widgets/controls",
            "_model_module_version": "1.5.0",
            "value": 570,
            "_view_count": null,
            "_view_module_version": "1.5.0",
            "orientation": "horizontal",
            "min": 0,
            "description_tooltip": null,
            "_model_module": "@jupyter-widgets/controls",
            "layout": "IPY_MODEL_36781b37eeb049fab51a6dc839d699c8"
          }
        },
        "f157d79bc6f345e6909b35719d4bdef2": {
          "model_module": "@jupyter-widgets/controls",
          "model_name": "HTMLModel",
          "state": {
            "_view_name": "HTMLView",
            "style": "IPY_MODEL_3fa143976e8142d2a1de2106bbf1a6d5",
            "_dom_classes": [],
            "description": "",
            "_model_name": "HTMLModel",
            "placeholder": "​",
            "_view_module": "@jupyter-widgets/controls",
            "_model_module_version": "1.5.0",
            "value": " 570/570 [00:00&lt;00:00, 3.14kB/s]",
            "_view_count": null,
            "_view_module_version": "1.5.0",
            "description_tooltip": null,
            "_model_module": "@jupyter-widgets/controls",
            "layout": "IPY_MODEL_0829c32ad80a4c908c95c87a5b60b4d7"
          }
        },
        "989375acf8194ee9b940614b899d52bc": {
          "model_module": "@jupyter-widgets/controls",
          "model_name": "ProgressStyleModel",
          "state": {
            "_view_name": "StyleView",
            "_model_name": "ProgressStyleModel",
            "description_width": "initial",
            "_view_module": "@jupyter-widgets/base",
            "_model_module_version": "1.5.0",
            "_view_count": null,
            "_view_module_version": "1.2.0",
            "bar_color": null,
            "_model_module": "@jupyter-widgets/controls"
          }
        },
        "36781b37eeb049fab51a6dc839d699c8": {
          "model_module": "@jupyter-widgets/base",
          "model_name": "LayoutModel",
          "state": {
            "_view_name": "LayoutView",
            "grid_template_rows": null,
            "right": null,
            "justify_content": null,
            "_view_module": "@jupyter-widgets/base",
            "overflow": null,
            "_model_module_version": "1.2.0",
            "_view_count": null,
            "flex_flow": null,
            "width": null,
            "min_width": null,
            "border": null,
            "align_items": null,
            "bottom": null,
            "_model_module": "@jupyter-widgets/base",
            "top": null,
            "grid_column": null,
            "overflow_y": null,
            "overflow_x": null,
            "grid_auto_flow": null,
            "grid_area": null,
            "grid_template_columns": null,
            "flex": null,
            "_model_name": "LayoutModel",
            "justify_items": null,
            "grid_row": null,
            "max_height": null,
            "align_content": null,
            "visibility": null,
            "align_self": null,
            "height": null,
            "min_height": null,
            "padding": null,
            "grid_auto_rows": null,
            "grid_gap": null,
            "max_width": null,
            "order": null,
            "_view_module_version": "1.2.0",
            "grid_template_areas": null,
            "object_position": null,
            "object_fit": null,
            "grid_auto_columns": null,
            "margin": null,
            "display": null,
            "left": null
          }
        },
        "3fa143976e8142d2a1de2106bbf1a6d5": {
          "model_module": "@jupyter-widgets/controls",
          "model_name": "DescriptionStyleModel",
          "state": {
            "_view_name": "StyleView",
            "_model_name": "DescriptionStyleModel",
            "description_width": "",
            "_view_module": "@jupyter-widgets/base",
            "_model_module_version": "1.5.0",
            "_view_count": null,
            "_view_module_version": "1.2.0",
            "_model_module": "@jupyter-widgets/controls"
          }
        },
        "0829c32ad80a4c908c95c87a5b60b4d7": {
          "model_module": "@jupyter-widgets/base",
          "model_name": "LayoutModel",
          "state": {
            "_view_name": "LayoutView",
            "grid_template_rows": null,
            "right": null,
            "justify_content": null,
            "_view_module": "@jupyter-widgets/base",
            "overflow": null,
            "_model_module_version": "1.2.0",
            "_view_count": null,
            "flex_flow": null,
            "width": null,
            "min_width": null,
            "border": null,
            "align_items": null,
            "bottom": null,
            "_model_module": "@jupyter-widgets/base",
            "top": null,
            "grid_column": null,
            "overflow_y": null,
            "overflow_x": null,
            "grid_auto_flow": null,
            "grid_area": null,
            "grid_template_columns": null,
            "flex": null,
            "_model_name": "LayoutModel",
            "justify_items": null,
            "grid_row": null,
            "max_height": null,
            "align_content": null,
            "visibility": null,
            "align_self": null,
            "height": null,
            "min_height": null,
            "padding": null,
            "grid_auto_rows": null,
            "grid_gap": null,
            "max_width": null,
            "order": null,
            "_view_module_version": "1.2.0",
            "grid_template_areas": null,
            "object_position": null,
            "object_fit": null,
            "grid_auto_columns": null,
            "margin": null,
            "display": null,
            "left": null
          }
        },
        "c76e04e69e30443e837ac067b3515115": {
          "model_module": "@jupyter-widgets/controls",
          "model_name": "HBoxModel",
          "state": {
            "_view_name": "HBoxView",
            "_dom_classes": [],
            "_model_name": "HBoxModel",
            "_view_module": "@jupyter-widgets/controls",
            "_model_module_version": "1.5.0",
            "_view_count": null,
            "_view_module_version": "1.5.0",
            "box_style": "",
            "layout": "IPY_MODEL_41ee9befaad74303a245b3b8b02fdcf4",
            "_model_module": "@jupyter-widgets/controls",
            "children": [
              "IPY_MODEL_c549665b198b4fa78bf1efd9dd64a4d4",
              "IPY_MODEL_a17f0517a3914066a38ad0c00032e748"
            ]
          }
        },
        "41ee9befaad74303a245b3b8b02fdcf4": {
          "model_module": "@jupyter-widgets/base",
          "model_name": "LayoutModel",
          "state": {
            "_view_name": "LayoutView",
            "grid_template_rows": null,
            "right": null,
            "justify_content": null,
            "_view_module": "@jupyter-widgets/base",
            "overflow": null,
            "_model_module_version": "1.2.0",
            "_view_count": null,
            "flex_flow": null,
            "width": null,
            "min_width": null,
            "border": null,
            "align_items": null,
            "bottom": null,
            "_model_module": "@jupyter-widgets/base",
            "top": null,
            "grid_column": null,
            "overflow_y": null,
            "overflow_x": null,
            "grid_auto_flow": null,
            "grid_area": null,
            "grid_template_columns": null,
            "flex": null,
            "_model_name": "LayoutModel",
            "justify_items": null,
            "grid_row": null,
            "max_height": null,
            "align_content": null,
            "visibility": null,
            "align_self": null,
            "height": null,
            "min_height": null,
            "padding": null,
            "grid_auto_rows": null,
            "grid_gap": null,
            "max_width": null,
            "order": null,
            "_view_module_version": "1.2.0",
            "grid_template_areas": null,
            "object_position": null,
            "object_fit": null,
            "grid_auto_columns": null,
            "margin": null,
            "display": null,
            "left": null
          }
        },
        "c549665b198b4fa78bf1efd9dd64a4d4": {
          "model_module": "@jupyter-widgets/controls",
          "model_name": "FloatProgressModel",
          "state": {
            "_view_name": "ProgressView",
            "style": "IPY_MODEL_c633b883c42745e0af4d206f9d41f96c",
            "_dom_classes": [],
            "description": "Downloading: 100%",
            "_model_name": "FloatProgressModel",
            "bar_style": "success",
            "max": 440473133,
            "_view_module": "@jupyter-widgets/controls",
            "_model_module_version": "1.5.0",
            "value": 440473133,
            "_view_count": null,
            "_view_module_version": "1.5.0",
            "orientation": "horizontal",
            "min": 0,
            "description_tooltip": null,
            "_model_module": "@jupyter-widgets/controls",
            "layout": "IPY_MODEL_70fa4425aaa04078a8c7d6f308786fc8"
          }
        },
        "a17f0517a3914066a38ad0c00032e748": {
          "model_module": "@jupyter-widgets/controls",
          "model_name": "HTMLModel",
          "state": {
            "_view_name": "HTMLView",
            "style": "IPY_MODEL_55a703e0ff554724b0cae213643dd9be",
            "_dom_classes": [],
            "description": "",
            "_model_name": "HTMLModel",
            "placeholder": "​",
            "_view_module": "@jupyter-widgets/controls",
            "_model_module_version": "1.5.0",
            "value": " 440M/440M [00:09&lt;00:00, 48.2MB/s]",
            "_view_count": null,
            "_view_module_version": "1.5.0",
            "description_tooltip": null,
            "_model_module": "@jupyter-widgets/controls",
            "layout": "IPY_MODEL_e9a5e43f412440148fda89dd16ff8008"
          }
        },
        "c633b883c42745e0af4d206f9d41f96c": {
          "model_module": "@jupyter-widgets/controls",
          "model_name": "ProgressStyleModel",
          "state": {
            "_view_name": "StyleView",
            "_model_name": "ProgressStyleModel",
            "description_width": "initial",
            "_view_module": "@jupyter-widgets/base",
            "_model_module_version": "1.5.0",
            "_view_count": null,
            "_view_module_version": "1.2.0",
            "bar_color": null,
            "_model_module": "@jupyter-widgets/controls"
          }
        },
        "70fa4425aaa04078a8c7d6f308786fc8": {
          "model_module": "@jupyter-widgets/base",
          "model_name": "LayoutModel",
          "state": {
            "_view_name": "LayoutView",
            "grid_template_rows": null,
            "right": null,
            "justify_content": null,
            "_view_module": "@jupyter-widgets/base",
            "overflow": null,
            "_model_module_version": "1.2.0",
            "_view_count": null,
            "flex_flow": null,
            "width": null,
            "min_width": null,
            "border": null,
            "align_items": null,
            "bottom": null,
            "_model_module": "@jupyter-widgets/base",
            "top": null,
            "grid_column": null,
            "overflow_y": null,
            "overflow_x": null,
            "grid_auto_flow": null,
            "grid_area": null,
            "grid_template_columns": null,
            "flex": null,
            "_model_name": "LayoutModel",
            "justify_items": null,
            "grid_row": null,
            "max_height": null,
            "align_content": null,
            "visibility": null,
            "align_self": null,
            "height": null,
            "min_height": null,
            "padding": null,
            "grid_auto_rows": null,
            "grid_gap": null,
            "max_width": null,
            "order": null,
            "_view_module_version": "1.2.0",
            "grid_template_areas": null,
            "object_position": null,
            "object_fit": null,
            "grid_auto_columns": null,
            "margin": null,
            "display": null,
            "left": null
          }
        },
        "55a703e0ff554724b0cae213643dd9be": {
          "model_module": "@jupyter-widgets/controls",
          "model_name": "DescriptionStyleModel",
          "state": {
            "_view_name": "StyleView",
            "_model_name": "DescriptionStyleModel",
            "description_width": "",
            "_view_module": "@jupyter-widgets/base",
            "_model_module_version": "1.5.0",
            "_view_count": null,
            "_view_module_version": "1.2.0",
            "_model_module": "@jupyter-widgets/controls"
          }
        },
        "e9a5e43f412440148fda89dd16ff8008": {
          "model_module": "@jupyter-widgets/base",
          "model_name": "LayoutModel",
          "state": {
            "_view_name": "LayoutView",
            "grid_template_rows": null,
            "right": null,
            "justify_content": null,
            "_view_module": "@jupyter-widgets/base",
            "overflow": null,
            "_model_module_version": "1.2.0",
            "_view_count": null,
            "flex_flow": null,
            "width": null,
            "min_width": null,
            "border": null,
            "align_items": null,
            "bottom": null,
            "_model_module": "@jupyter-widgets/base",
            "top": null,
            "grid_column": null,
            "overflow_y": null,
            "overflow_x": null,
            "grid_auto_flow": null,
            "grid_area": null,
            "grid_template_columns": null,
            "flex": null,
            "_model_name": "LayoutModel",
            "justify_items": null,
            "grid_row": null,
            "max_height": null,
            "align_content": null,
            "visibility": null,
            "align_self": null,
            "height": null,
            "min_height": null,
            "padding": null,
            "grid_auto_rows": null,
            "grid_gap": null,
            "max_width": null,
            "order": null,
            "_view_module_version": "1.2.0",
            "grid_template_areas": null,
            "object_position": null,
            "object_fit": null,
            "grid_auto_columns": null,
            "margin": null,
            "display": null,
            "left": null
          }
        }
      }
    }
  },
  "cells": [
    {
      "cell_type": "markdown",
      "metadata": {
        "id": "T_du22iY_i3w"
      },
      "source": [
        "### **This notebook involves the Sentiment analysis of Restaraunt reviews using scraped dataset.**"
      ]
    },
    {
      "cell_type": "markdown",
      "metadata": {
        "id": "01vabqH3CFOG"
      },
      "source": [
        "Install required libraries"
      ]
    },
    {
      "cell_type": "code",
      "metadata": {
        "colab": {
          "base_uri": "https://localhost:8080/"
        },
        "id": "6JpaP9fbCMI5",
        "outputId": "cd70560b-f118-428f-e862-57f3bd6e752c"
      },
      "source": [
        "!pip install scikit-plot\n",
        "!pip install transformers"
      ],
      "execution_count": null,
      "outputs": [
        {
          "output_type": "stream",
          "text": [
            "Collecting scikit-plot\n",
            "  Downloading https://files.pythonhosted.org/packages/7c/47/32520e259340c140a4ad27c1b97050dd3254fdc517b1d59974d47037510e/scikit_plot-0.3.7-py3-none-any.whl\n",
            "Requirement already satisfied: scikit-learn>=0.18 in /usr/local/lib/python3.7/dist-packages (from scikit-plot) (0.22.2.post1)\n",
            "Requirement already satisfied: matplotlib>=1.4.0 in /usr/local/lib/python3.7/dist-packages (from scikit-plot) (3.2.2)\n",
            "Requirement already satisfied: scipy>=0.9 in /usr/local/lib/python3.7/dist-packages (from scikit-plot) (1.4.1)\n",
            "Requirement already satisfied: joblib>=0.10 in /usr/local/lib/python3.7/dist-packages (from scikit-plot) (1.0.1)\n",
            "Requirement already satisfied: numpy>=1.11.0 in /usr/local/lib/python3.7/dist-packages (from scikit-learn>=0.18->scikit-plot) (1.19.5)\n",
            "Requirement already satisfied: kiwisolver>=1.0.1 in /usr/local/lib/python3.7/dist-packages (from matplotlib>=1.4.0->scikit-plot) (1.3.1)\n",
            "Requirement already satisfied: cycler>=0.10 in /usr/local/lib/python3.7/dist-packages (from matplotlib>=1.4.0->scikit-plot) (0.10.0)\n",
            "Requirement already satisfied: pyparsing!=2.0.4,!=2.1.2,!=2.1.6,>=2.0.1 in /usr/local/lib/python3.7/dist-packages (from matplotlib>=1.4.0->scikit-plot) (2.4.7)\n",
            "Requirement already satisfied: python-dateutil>=2.1 in /usr/local/lib/python3.7/dist-packages (from matplotlib>=1.4.0->scikit-plot) (2.8.1)\n",
            "Requirement already satisfied: six in /usr/local/lib/python3.7/dist-packages (from cycler>=0.10->matplotlib>=1.4.0->scikit-plot) (1.15.0)\n",
            "Installing collected packages: scikit-plot\n",
            "Successfully installed scikit-plot-0.3.7\n",
            "Collecting transformers\n",
            "\u001b[?25l  Downloading https://files.pythonhosted.org/packages/b0/9e/5b80becd952d5f7250eaf8fc64b957077b12ccfe73e9c03d37146ab29712/transformers-4.6.0-py3-none-any.whl (2.3MB)\n",
            "\u001b[K     |████████████████████████████████| 2.3MB 25.8MB/s \n",
            "\u001b[?25hCollecting sacremoses\n",
            "\u001b[?25l  Downloading https://files.pythonhosted.org/packages/75/ee/67241dc87f266093c533a2d4d3d69438e57d7a90abb216fa076e7d475d4a/sacremoses-0.0.45-py3-none-any.whl (895kB)\n",
            "\u001b[K     |████████████████████████████████| 901kB 38.5MB/s \n",
            "\u001b[?25hRequirement already satisfied: regex!=2019.12.17 in /usr/local/lib/python3.7/dist-packages (from transformers) (2019.12.20)\n",
            "Requirement already satisfied: requests in /usr/local/lib/python3.7/dist-packages (from transformers) (2.23.0)\n",
            "Collecting huggingface-hub==0.0.8\n",
            "  Downloading https://files.pythonhosted.org/packages/a1/88/7b1e45720ecf59c6c6737ff332f41c955963090a18e72acbcbeac6b25e86/huggingface_hub-0.0.8-py3-none-any.whl\n",
            "Requirement already satisfied: packaging in /usr/local/lib/python3.7/dist-packages (from transformers) (20.9)\n",
            "Collecting tokenizers<0.11,>=0.10.1\n",
            "\u001b[?25l  Downloading https://files.pythonhosted.org/packages/ae/04/5b870f26a858552025a62f1649c20d29d2672c02ff3c3fb4c688ca46467a/tokenizers-0.10.2-cp37-cp37m-manylinux2010_x86_64.whl (3.3MB)\n",
            "\u001b[K     |████████████████████████████████| 3.3MB 48.4MB/s \n",
            "\u001b[?25hRequirement already satisfied: tqdm>=4.27 in /usr/local/lib/python3.7/dist-packages (from transformers) (4.41.1)\n",
            "Requirement already satisfied: filelock in /usr/local/lib/python3.7/dist-packages (from transformers) (3.0.12)\n",
            "Requirement already satisfied: numpy>=1.17 in /usr/local/lib/python3.7/dist-packages (from transformers) (1.19.5)\n",
            "Requirement already satisfied: importlib-metadata; python_version < \"3.8\" in /usr/local/lib/python3.7/dist-packages (from transformers) (4.0.1)\n",
            "Requirement already satisfied: six in /usr/local/lib/python3.7/dist-packages (from sacremoses->transformers) (1.15.0)\n",
            "Requirement already satisfied: click in /usr/local/lib/python3.7/dist-packages (from sacremoses->transformers) (8.0.0)\n",
            "Requirement already satisfied: joblib in /usr/local/lib/python3.7/dist-packages (from sacremoses->transformers) (1.0.1)\n",
            "Requirement already satisfied: certifi>=2017.4.17 in /usr/local/lib/python3.7/dist-packages (from requests->transformers) (2020.12.5)\n",
            "Requirement already satisfied: chardet<4,>=3.0.2 in /usr/local/lib/python3.7/dist-packages (from requests->transformers) (3.0.4)\n",
            "Requirement already satisfied: urllib3!=1.25.0,!=1.25.1,<1.26,>=1.21.1 in /usr/local/lib/python3.7/dist-packages (from requests->transformers) (1.24.3)\n",
            "Requirement already satisfied: idna<3,>=2.5 in /usr/local/lib/python3.7/dist-packages (from requests->transformers) (2.10)\n",
            "Requirement already satisfied: pyparsing>=2.0.2 in /usr/local/lib/python3.7/dist-packages (from packaging->transformers) (2.4.7)\n",
            "Requirement already satisfied: typing-extensions>=3.6.4; python_version < \"3.8\" in /usr/local/lib/python3.7/dist-packages (from importlib-metadata; python_version < \"3.8\"->transformers) (3.7.4.3)\n",
            "Requirement already satisfied: zipp>=0.5 in /usr/local/lib/python3.7/dist-packages (from importlib-metadata; python_version < \"3.8\"->transformers) (3.4.1)\n",
            "Installing collected packages: sacremoses, huggingface-hub, tokenizers, transformers\n",
            "Successfully installed huggingface-hub-0.0.8 sacremoses-0.0.45 tokenizers-0.10.2 transformers-4.6.0\n"
          ],
          "name": "stdout"
        }
      ]
    },
    {
      "cell_type": "markdown",
      "metadata": {
        "id": "bwoJKCWp__xf"
      },
      "source": [
        "Import required libraries"
      ]
    },
    {
      "cell_type": "code",
      "metadata": {
        "id": "Ogxuogt_AEyV"
      },
      "source": [
        "#Import required libraries\n",
        "import time \n",
        "import datetime\n",
        "import pandas as pd\n",
        "import numpy as np\n",
        "import seaborn as sns\n",
        "from matplotlib import rc\n",
        "from pylab import rcParams\n",
        "import matplotlib.pyplot as plt\n",
        "from textwrap import wrap\n",
        "from collections import defaultdict\n",
        "from sklearn.model_selection import train_test_split\n",
        "from sklearn.preprocessing import LabelEncoder\n",
        "from sklearn.metrics import confusion_matrix, classification_report\n",
        "from sklearn.metrics import precision_recall_curve,auc\n",
        "\n",
        "import scikitplot as skplt\n",
        "\n",
        "import transformers\n",
        "from transformers import BertModel, BertTokenizer, BertForSequenceClassification\n",
        "from transformers import AdamW, get_linear_schedule_with_warmup\n",
        "\n",
        "import torch\n",
        "from torch import nn,optim\n",
        "from torch.utils.data import Dataset,DataLoader,TensorDataset, RandomSampler, SequentialSampler\n",
        "import torch.nn as nn  \n",
        "import torch.nn.functional as F  \n",
        "device=torch.device('cuda:0' if torch.cuda.is_available() else 'cpu');\n",
        "\n",
        "%matplotlib inline\n",
        "%config InlineBackend.figure_format='retina'\n",
        "\n",
        "sns.set(style='whitegrid',palette='muted',font_scale=1.2)\n",
        "color_palette=['#01BEFE','#FFDD00','#FF7D00','#FF006D','#ADFF02','#8F00FF']\n",
        "sns.set_palette(sns.color_palette(color_palette))\n",
        "\n",
        "rcParams['figure.figsize']= 12,6\n",
        "\n",
        "import warnings\n",
        "warnings.filterwarnings('ignore')\n",
        "\n",
        "seed=42\n",
        "np.random.seed(seed)\n",
        "torch.manual_seed(seed)\n",
        "\n",
        "import pickle\n",
        "\n",
        "import warnings \n",
        "warnings.filterwarnings('ignore')"
      ],
      "execution_count": null,
      "outputs": []
    },
    {
      "cell_type": "markdown",
      "metadata": {
        "id": "3WP6E4mo_X2D"
      },
      "source": [
        "Load the data"
      ]
    },
    {
      "cell_type": "code",
      "metadata": {
        "colab": {
          "base_uri": "https://localhost:8080/",
          "height": 289
        },
        "id": "nAz0mv_i_X2E",
        "outputId": "074748cd-4da1-4c0c-894b-d0013a50fdb6"
      },
      "source": [
        "df = pd.read_csv('sentiment_analysis.csv')\n",
        "df = df.drop('Unnamed: 0',axis=1)\n",
        "df.head()"
      ],
      "execution_count": null,
      "outputs": [
        {
          "output_type": "execute_result",
          "data": {
            "text/html": [
              "<div>\n",
              "<style scoped>\n",
              "    .dataframe tbody tr th:only-of-type {\n",
              "        vertical-align: middle;\n",
              "    }\n",
              "\n",
              "    .dataframe tbody tr th {\n",
              "        vertical-align: top;\n",
              "    }\n",
              "\n",
              "    .dataframe thead th {\n",
              "        text-align: right;\n",
              "    }\n",
              "</style>\n",
              "<table border=\"1\" class=\"dataframe\">\n",
              "  <thead>\n",
              "    <tr style=\"text-align: right;\">\n",
              "      <th></th>\n",
              "      <th>Title</th>\n",
              "      <th>ReviewDate</th>\n",
              "      <th>Stay Date</th>\n",
              "      <th>comments</th>\n",
              "      <th>Restaurant_Name</th>\n",
              "      <th>Review_Sentiment</th>\n",
              "    </tr>\n",
              "  </thead>\n",
              "  <tbody>\n",
              "    <tr>\n",
              "      <th>0</th>\n",
              "      <td>b'Highly recommended'</td>\n",
              "      <td>b'Reviewed September 14, 2020 '</td>\n",
              "      <td>b'Date of visit: September 2020'</td>\n",
              "      <td>[b'We went for Lunch. From very first their pa...</td>\n",
              "      <td>The Four Leafed Clover</td>\n",
              "      <td>POSITIVE</td>\n",
              "    </tr>\n",
              "    <tr>\n",
              "      <th>1</th>\n",
              "      <td>b'Excellent food, great ambience'</td>\n",
              "      <td>b'Reviewed September 5, 2020 '</td>\n",
              "      <td>b'Date of visit: September 2020'</td>\n",
              "      <td>[b'Great service and delicious food. We had th...</td>\n",
              "      <td>The Four Leafed Clover</td>\n",
              "      <td>POSITIVE</td>\n",
              "    </tr>\n",
              "    <tr>\n",
              "      <th>2</th>\n",
              "      <td>b'Excellent Food and Place'</td>\n",
              "      <td>b'Reviewed August 15, 2020 '</td>\n",
              "      <td>b'Date of visit: August 2020'</td>\n",
              "      <td>[b'As I went, there were enough parking space,...</td>\n",
              "      <td>The Four Leafed Clover</td>\n",
              "      <td>POSITIVE</td>\n",
              "    </tr>\n",
              "    <tr>\n",
              "      <th>3</th>\n",
              "      <td>b'Good Food and Ambience\\n\\n Food'</td>\n",
              "      <td>b'Reviewed February 9, 2020 '</td>\n",
              "      <td>b'Date of visit: February 2020'</td>\n",
              "      <td>[b'Good Food and Ambience\\n\\n Food and ambienc...</td>\n",
              "      <td>The Four Leafed Clover</td>\n",
              "      <td>POSITIVE</td>\n",
              "    </tr>\n",
              "    <tr>\n",
              "      <th>4</th>\n",
              "      <td>b'Loved everything about The Four Leafed Clover'</td>\n",
              "      <td>b'Reviewed January 17, 2020 '</td>\n",
              "      <td>b'Date of visit: January 2020'</td>\n",
              "      <td>[b\"Excellent quiet and clean place for a relax...</td>\n",
              "      <td>The Four Leafed Clover</td>\n",
              "      <td>POSITIVE</td>\n",
              "    </tr>\n",
              "  </tbody>\n",
              "</table>\n",
              "</div>"
            ],
            "text/plain": [
              "                                              Title  ... Review_Sentiment\n",
              "0                             b'Highly recommended'  ...         POSITIVE\n",
              "1                 b'Excellent food, great ambience'  ...         POSITIVE\n",
              "2                       b'Excellent Food and Place'  ...         POSITIVE\n",
              "3                b'Good Food and Ambience\\n\\n Food'  ...         POSITIVE\n",
              "4  b'Loved everything about The Four Leafed Clover'  ...         POSITIVE\n",
              "\n",
              "[5 rows x 6 columns]"
            ]
          },
          "metadata": {
            "tags": []
          },
          "execution_count": 6
        }
      ]
    },
    {
      "cell_type": "code",
      "metadata": {
        "colab": {
          "base_uri": "https://localhost:8080/"
        },
        "id": "-jVox4dF_X2G",
        "outputId": "9b863191-9a34-4d67-b31f-bdc8d5a993e0"
      },
      "source": [
        "#Check columns\n",
        "df.columns"
      ],
      "execution_count": null,
      "outputs": [
        {
          "output_type": "execute_result",
          "data": {
            "text/plain": [
              "Index(['Title', 'ReviewDate', 'Stay Date', 'comments', 'Restaurant_Name',\n",
              "       'Review_Sentiment'],\n",
              "      dtype='object')"
            ]
          },
          "metadata": {
            "tags": []
          },
          "execution_count": 7
        }
      ]
    },
    {
      "cell_type": "code",
      "metadata": {
        "colab": {
          "base_uri": "https://localhost:8080/"
        },
        "id": "vZ7a-O5hmRNW",
        "outputId": "d407973d-99f6-457c-dc80-1462ba7cddd5"
      },
      "source": [
        "# General stats about datasets\n",
        "df.info()"
      ],
      "execution_count": null,
      "outputs": [
        {
          "output_type": "stream",
          "text": [
            "<class 'pandas.core.frame.DataFrame'>\n",
            "RangeIndex: 3861 entries, 0 to 3860\n",
            "Data columns (total 6 columns):\n",
            " #   Column            Non-Null Count  Dtype \n",
            "---  ------            --------------  ----- \n",
            " 0   Title             3861 non-null   object\n",
            " 1   ReviewDate        3861 non-null   object\n",
            " 2   Stay Date         3861 non-null   object\n",
            " 3   comments          3861 non-null   object\n",
            " 4   Restaurant_Name   3861 non-null   object\n",
            " 5   Review_Sentiment  3861 non-null   object\n",
            "dtypes: object(6)\n",
            "memory usage: 181.1+ KB\n"
          ],
          "name": "stdout"
        }
      ]
    },
    {
      "cell_type": "code",
      "metadata": {
        "id": "nb1c11DcFDPi"
      },
      "source": [
        "# Change column names for better readability\n",
        "df = df.rename(columns = {'comments':'Review'})"
      ],
      "execution_count": null,
      "outputs": []
    },
    {
      "cell_type": "markdown",
      "metadata": {
        "id": "kB_IuHo1DG-S"
      },
      "source": [
        "Here, in columns, we have added **Review_Sentiment**. We have extracted Review_Sentiment using **Transformer** library from **Huggingface**."
      ]
    },
    {
      "cell_type": "markdown",
      "metadata": {
        "id": "KxV0Fe4VDwI4"
      },
      "source": [
        "### **Text Pre-processing**"
      ]
    },
    {
      "cell_type": "markdown",
      "metadata": {
        "id": "j_eJ5Mc7_X2G"
      },
      "source": [
        "We will do the text pre-processing, which involves **lower casing the text from raw data**."
      ]
    },
    {
      "cell_type": "markdown",
      "metadata": {
        "id": "svVYBBJLE3-W"
      },
      "source": [
        "Let's consider **Review** feature for text pre-processing."
      ]
    },
    {
      "cell_type": "code",
      "metadata": {
        "colab": {
          "base_uri": "https://localhost:8080/",
          "height": 204
        },
        "id": "ka2X7SFgbcBh",
        "outputId": "7e4837b3-e674-4bfc-95a3-5c7a36e69815"
      },
      "source": [
        "# strip [b''b]\n",
        "df['review_preprocessed'] = df['Review'].str.strip('[b''b]')\n",
        "# Replace \\n by ''\n",
        "df = df.replace(r'\\\\n',' ', regex=True)\n",
        "# Replace single & double quotes\n",
        "df = df.replace(r\"'\",\" \", regex=True)\n",
        "df = df.replace(r'\"',' ', regex=True)\n",
        "df[['Review','review_preprocessed']].head()"
      ],
      "execution_count": null,
      "outputs": [
        {
          "output_type": "execute_result",
          "data": {
            "text/html": [
              "<div>\n",
              "<style scoped>\n",
              "    .dataframe tbody tr th:only-of-type {\n",
              "        vertical-align: middle;\n",
              "    }\n",
              "\n",
              "    .dataframe tbody tr th {\n",
              "        vertical-align: top;\n",
              "    }\n",
              "\n",
              "    .dataframe thead th {\n",
              "        text-align: right;\n",
              "    }\n",
              "</style>\n",
              "<table border=\"1\" class=\"dataframe\">\n",
              "  <thead>\n",
              "    <tr style=\"text-align: right;\">\n",
              "      <th></th>\n",
              "      <th>Review</th>\n",
              "      <th>review_preprocessed</th>\n",
              "    </tr>\n",
              "  </thead>\n",
              "  <tbody>\n",
              "    <tr>\n",
              "      <th>0</th>\n",
              "      <td>[b We went for Lunch. From very first their pa...</td>\n",
              "      <td>We went for Lunch. From very first their part...</td>\n",
              "    </tr>\n",
              "    <tr>\n",
              "      <th>1</th>\n",
              "      <td>[b Great service and delicious food. We had th...</td>\n",
              "      <td>Great service and delicious food. We had the ...</td>\n",
              "    </tr>\n",
              "    <tr>\n",
              "      <th>2</th>\n",
              "      <td>[b As I went, there were enough parking space,...</td>\n",
              "      <td>As I went, there were enough parking space, t...</td>\n",
              "    </tr>\n",
              "    <tr>\n",
              "      <th>3</th>\n",
              "      <td>[b Good Food and Ambience   Food and ambience ...</td>\n",
              "      <td>Good Food and Ambience   Food and ambience wa...</td>\n",
              "    </tr>\n",
              "    <tr>\n",
              "      <th>4</th>\n",
              "      <td>[b Excellent quiet and clean place for a relax...</td>\n",
              "      <td>Excellent quiet and clean place for a relaxed...</td>\n",
              "    </tr>\n",
              "  </tbody>\n",
              "</table>\n",
              "</div>"
            ],
            "text/plain": [
              "                                              Review                                review_preprocessed\n",
              "0  [b We went for Lunch. From very first their pa...   We went for Lunch. From very first their part...\n",
              "1  [b Great service and delicious food. We had th...   Great service and delicious food. We had the ...\n",
              "2  [b As I went, there were enough parking space,...   As I went, there were enough parking space, t...\n",
              "3  [b Good Food and Ambience   Food and ambience ...   Good Food and Ambience   Food and ambience wa...\n",
              "4  [b Excellent quiet and clean place for a relax...   Excellent quiet and clean place for a relaxed..."
            ]
          },
          "metadata": {
            "tags": []
          },
          "execution_count": 10
        }
      ]
    },
    {
      "cell_type": "markdown",
      "metadata": {
        "id": "oHKPZrHTVaCe"
      },
      "source": [
        "**Lower casing**"
      ]
    },
    {
      "cell_type": "markdown",
      "metadata": {
        "id": "MdC1MKbxVjHb"
      },
      "source": [
        "Lower casing is a common text preprocessing technique. The idea is to convert the input text into same casing format so that 'text', 'Text' and 'TEXT' are treated the same way.\n",
        "\n"
      ]
    },
    {
      "cell_type": "code",
      "metadata": {
        "colab": {
          "base_uri": "https://localhost:8080/",
          "height": 204
        },
        "id": "yVHZnOgvVS1P",
        "outputId": "593ca91e-5ac1-4032-80f5-24db9ef57468"
      },
      "source": [
        "df[\"review_preprocessed\"] = df[\"review_preprocessed\"].str.strip().str.lower()\n",
        "df[['Review','review_preprocessed']].head()"
      ],
      "execution_count": null,
      "outputs": [
        {
          "output_type": "execute_result",
          "data": {
            "text/html": [
              "<div>\n",
              "<style scoped>\n",
              "    .dataframe tbody tr th:only-of-type {\n",
              "        vertical-align: middle;\n",
              "    }\n",
              "\n",
              "    .dataframe tbody tr th {\n",
              "        vertical-align: top;\n",
              "    }\n",
              "\n",
              "    .dataframe thead th {\n",
              "        text-align: right;\n",
              "    }\n",
              "</style>\n",
              "<table border=\"1\" class=\"dataframe\">\n",
              "  <thead>\n",
              "    <tr style=\"text-align: right;\">\n",
              "      <th></th>\n",
              "      <th>Review</th>\n",
              "      <th>review_preprocessed</th>\n",
              "    </tr>\n",
              "  </thead>\n",
              "  <tbody>\n",
              "    <tr>\n",
              "      <th>0</th>\n",
              "      <td>[b We went for Lunch. From very first their pa...</td>\n",
              "      <td>we went for lunch. from very first their part ...</td>\n",
              "    </tr>\n",
              "    <tr>\n",
              "      <th>1</th>\n",
              "      <td>[b Great service and delicious food. We had th...</td>\n",
              "      <td>great service and delicious food. we had the l...</td>\n",
              "    </tr>\n",
              "    <tr>\n",
              "      <th>2</th>\n",
              "      <td>[b As I went, there were enough parking space,...</td>\n",
              "      <td>as i went, there were enough parking space, th...</td>\n",
              "    </tr>\n",
              "    <tr>\n",
              "      <th>3</th>\n",
              "      <td>[b Good Food and Ambience   Food and ambience ...</td>\n",
              "      <td>good food and ambience   food and ambience was...</td>\n",
              "    </tr>\n",
              "    <tr>\n",
              "      <th>4</th>\n",
              "      <td>[b Excellent quiet and clean place for a relax...</td>\n",
              "      <td>excellent quiet and clean place for a relaxed ...</td>\n",
              "    </tr>\n",
              "  </tbody>\n",
              "</table>\n",
              "</div>"
            ],
            "text/plain": [
              "                                              Review                                review_preprocessed\n",
              "0  [b We went for Lunch. From very first their pa...  we went for lunch. from very first their part ...\n",
              "1  [b Great service and delicious food. We had th...  great service and delicious food. we had the l...\n",
              "2  [b As I went, there were enough parking space,...  as i went, there were enough parking space, th...\n",
              "3  [b Good Food and Ambience   Food and ambience ...  good food and ambience   food and ambience was...\n",
              "4  [b Excellent quiet and clean place for a relax...  excellent quiet and clean place for a relaxed ..."
            ]
          },
          "metadata": {
            "tags": []
          },
          "execution_count": 11
        }
      ]
    },
    {
      "cell_type": "markdown",
      "metadata": {
        "id": "kuiNyEzITmi7"
      },
      "source": [
        "Let's check missing values if there are any."
      ]
    },
    {
      "cell_type": "code",
      "metadata": {
        "colab": {
          "base_uri": "https://localhost:8080/"
        },
        "id": "P0eu9mp9ToZb",
        "outputId": "69387655-55e5-45a7-d592-9271b0d40713"
      },
      "source": [
        "df.info()"
      ],
      "execution_count": null,
      "outputs": [
        {
          "output_type": "stream",
          "text": [
            "<class 'pandas.core.frame.DataFrame'>\n",
            "RangeIndex: 3861 entries, 0 to 3860\n",
            "Data columns (total 7 columns):\n",
            " #   Column               Non-Null Count  Dtype \n",
            "---  ------               --------------  ----- \n",
            " 0   Title                3861 non-null   object\n",
            " 1   ReviewDate           3861 non-null   object\n",
            " 2   Stay Date            3861 non-null   object\n",
            " 3   Review               3861 non-null   object\n",
            " 4   Restaurant_Name      3861 non-null   object\n",
            " 5   Review_Sentiment     3861 non-null   object\n",
            " 6   review_preprocessed  3861 non-null   object\n",
            "dtypes: object(7)\n",
            "memory usage: 211.3+ KB\n"
          ],
          "name": "stdout"
        }
      ]
    },
    {
      "cell_type": "markdown",
      "metadata": {
        "id": "3AkeWVEpT4HU"
      },
      "source": [
        "### Count plot for label "
      ]
    },
    {
      "cell_type": "code",
      "metadata": {
        "colab": {
          "base_uri": "https://localhost:8080/",
          "height": 415
        },
        "id": "f9XwinoxTuEU",
        "outputId": "d0dd2fe8-e28a-4a4d-de21-51460517be7a"
      },
      "source": [
        "sns.countplot(df.Review_Sentiment)\n",
        "plt.xlabel('Review_Sentiment')"
      ],
      "execution_count": null,
      "outputs": [
        {
          "output_type": "execute_result",
          "data": {
            "text/plain": [
              "Text(0.5, 0, 'Review_Sentiment')"
            ]
          },
          "metadata": {
            "tags": []
          },
          "execution_count": 13
        },
        {
          "output_type": "display_data",
          "data": {
            "image/png": "[encoded data removed]",
            "text/plain": [
              "<Figure size 864x432 with 1 Axes>"
            ]
          },
          "metadata": {
            "tags": [],
            "image/png": {
              "width": 745,
              "height": 381
            }
          }
        }
      ]
    },
    {
      "cell_type": "markdown",
      "metadata": {
        "id": "jD-O90QEUS5F"
      },
      "source": [
        "**Encode out text labels to numeric.**"
      ]
    },
    {
      "cell_type": "code",
      "metadata": {
        "colab": {
          "base_uri": "https://localhost:8080/"
        },
        "id": "XmPHXK20UZ0c",
        "outputId": "eaae1b6b-05f4-4eba-a8e8-cf9291733dea"
      },
      "source": [
        "# Initiate LabelEncoder class\n",
        "le =LabelEncoder()\n",
        "# dataset\n",
        "df['Review_Sentiment'] = le.fit_transform(df['Review_Sentiment'])\n",
        "df.Review_Sentiment.value_counts()   # 0 -Negative, 1 - Positive"
      ],
      "execution_count": null,
      "outputs": [
        {
          "output_type": "execute_result",
          "data": {
            "text/plain": [
              "1    3159\n",
              "0     702\n",
              "Name: Review_Sentiment, dtype: int64"
            ]
          },
          "metadata": {
            "tags": []
          },
          "execution_count": 14
        }
      ]
    },
    {
      "cell_type": "markdown",
      "metadata": {
        "id": "7rbiGE67U8_G"
      },
      "source": [
        "**Define pre-trained model**"
      ]
    },
    {
      "cell_type": "markdown",
      "metadata": {
        "id": "_KzQmyl7U_3o"
      },
      "source": [
        "Since our text data is lower cased, we are considering \"**bert-base-uncased**\" pre-trained model for our task."
      ]
    },
    {
      "cell_type": "code",
      "metadata": {
        "id": "CtL66HBEVvDV"
      },
      "source": [
        "pre_trained_model='bert-base-uncased'"
      ],
      "execution_count": null,
      "outputs": []
    },
    {
      "cell_type": "markdown",
      "metadata": {
        "id": "APA0dw47V8-n"
      },
      "source": [
        "**Load the BERT tokenizer:**     \n",
        "BertTokenizer will convert the raw text into numerical vectors i.e., input ids."
      ]
    },
    {
      "cell_type": "code",
      "metadata": {
        "id": "fawk_k8xWWMp",
        "colab": {
          "base_uri": "https://localhost:8080/",
          "height": 164,
          "referenced_widgets": [
            "a3658514c8a341e3b792a8d8c871ec12",
            "2699bf1135304a08b391356dd032f832",
            "f7b46de915844107b11e3bc499d8a294",
            "7e0437c508604bf5b0124d0a5cea2cea",
            "c1dae50dccf748da8ec1a8673ce70ab8",
            "645834705cf84d6480729a833e2cab1f",
            "5810f6bbf3c64d98a3f581628a085a9d",
            "b407446cf2e343dc844cb427ee8a6088",
            "a7cd9ca02cfc4906b54a0f3cd1d1dbac",
            "1fe3233a33494d06b8e5dfebebafdf67",
            "3a225230df224d9b88ec4b9eb96c0453",
            "6dbfc9e31672459c9f2168933b0ceb56",
            "17e50af6851d4e61a747abf055f076fc",
            "26fb6ad9b7404a94b908f5764c24b32f",
            "6bab657c34ca46e5b875225b2bb340c1",
            "1745ba2ed62644579a6723a07b433326",
            "742ea4da391d40e2a7aec64762ff2669",
            "37bab399a9584a4e89d7ed2d5b1bc2bf",
            "70b5abcf64bf4d2d99bb7cb0d9b8857e",
            "5c10929ac134474ca71ac682ab8329fa",
            "131a001daf0547a384b53691f496e80d",
            "4d9536f94f354572a04849fb546f8e3d",
            "d9f8566bbc064d6a9b1d922c8679b88d",
            "be02f552be584981bc90a70ca0e2c43d"
          ]
        },
        "outputId": "40e08635-ff6e-4a2a-beab-2d4a27edb535"
      },
      "source": [
        "tokenizer=BertTokenizer.from_pretrained(pre_trained_model)"
      ],
      "execution_count": null,
      "outputs": [
        {
          "output_type": "display_data",
          "data": {
            "application/vnd.jupyter.widget-view+json": {
              "model_id": "a3658514c8a341e3b792a8d8c871ec12",
              "version_minor": 0,
              "version_major": 2
            },
            "text/plain": [
              "HBox(children=(FloatProgress(value=0.0, description='Downloading', max=231508.0, style=ProgressStyle(descripti…"
            ]
          },
          "metadata": {
            "tags": []
          }
        },
        {
          "output_type": "stream",
          "text": [
            "\n"
          ],
          "name": "stdout"
        },
        {
          "output_type": "display_data",
          "data": {
            "application/vnd.jupyter.widget-view+json": {
              "model_id": "a7cd9ca02cfc4906b54a0f3cd1d1dbac",
              "version_minor": 0,
              "version_major": 2
            },
            "text/plain": [
              "HBox(children=(FloatProgress(value=0.0, description='Downloading', max=28.0, style=ProgressStyle(description_w…"
            ]
          },
          "metadata": {
            "tags": []
          }
        },
        {
          "output_type": "stream",
          "text": [
            "\n"
          ],
          "name": "stdout"
        },
        {
          "output_type": "display_data",
          "data": {
            "application/vnd.jupyter.widget-view+json": {
              "model_id": "742ea4da391d40e2a7aec64762ff2669",
              "version_minor": 0,
              "version_major": 2
            },
            "text/plain": [
              "HBox(children=(FloatProgress(value=0.0, description='Downloading', max=466062.0, style=ProgressStyle(descripti…"
            ]
          },
          "metadata": {
            "tags": []
          }
        },
        {
          "output_type": "stream",
          "text": [
            "\n"
          ],
          "name": "stdout"
        }
      ]
    },
    {
      "cell_type": "markdown",
      "metadata": {
        "id": "zeMckzedWxWf"
      },
      "source": [
        "**Split the dataset into train, validation, & test sets**"
      ]
    },
    {
      "cell_type": "markdown",
      "metadata": {
        "id": "4TPTCPcBW_ER"
      },
      "source": [
        "We will split dataset into train data (80 %) and validation data(10%), test data (10 %)"
      ]
    },
    {
      "cell_type": "code",
      "metadata": {
        "id": "pkQsj5i6XPtc"
      },
      "source": [
        "x_train, x_test, y_train, y_test = train_test_split(df['review_preprocessed'],df.Review_Sentiment, test_size=0.2, random_state = 42)\n",
        "x_test, x_val, y_test, y_val = train_test_split(x_test, y_test, test_size=0.5, random_state = 42)"
      ],
      "execution_count": null,
      "outputs": []
    },
    {
      "cell_type": "code",
      "metadata": {
        "id": "30E9fQJlX3t5"
      },
      "source": [
        "# Convert to list\n",
        "train_reviews = x_train.tolist()\n",
        "val_reviews = x_val.tolist()\n",
        "test_reviews = x_test.tolist()"
      ],
      "execution_count": null,
      "outputs": []
    },
    {
      "cell_type": "code",
      "metadata": {
        "colab": {
          "base_uri": "https://localhost:8080/"
        },
        "id": "jNuBPoukYeQ-",
        "outputId": "4445fe8a-0fb2-49d7-d5ca-4c803b2183ae"
      },
      "source": [
        "# Check train reviews\n",
        "train_reviews[:10]"
      ],
      "execution_count": null,
      "outputs": [
        {
          "output_type": "execute_result",
          "data": {
            "text/plain": [
              "['i had the most precious meal at geek hq surrounded by all the super heroes i love.  this is a place that everyone can go and enjoy the meals. they are very unique and the dishes are amazingly delicious. very friendly and nice staff. 100%...recommending this place. it definitely will be a memorable experience in colombo.more',\n",
              " 'we did book to go to the new years eve bash but the hotel lost our reservation, very common in sri lanka, but they were able to get us a seating in the restaurant 1864.  turned out, we had a fantastic meal.',\n",
              " 'the atmosphere and ambience take you back to the colonial times. enjoy the view and the different cocktails with the fantastic team of waiters.',\n",
              " 'we tried the sizzle twice in one week . as i believe you can t review a restaurant with one go.  the menu was confusing , but the stuarts make sure you understand it. on the first day they had some instagram person , and one...manager or someone didn t notice any of the other people and running behind this insta(we never hear or seen of).  food taste good, the grill came in a perfect char grilled out and unbelievably juicy inside. i have tried so many of their food and all came out really tasty.only down fall was when you try many food all tastes almost same (that s i think because of the sauces )anyway good food,  little rundown and much needed renovation look.old furniture.couldn t understand the interior.but, i would recommend this place.more , b thank you very much for your review, four star rating and the compliments. we appreciate it very much. it was not the manager but personally myself. i always ensure that i speak to all the customers. sorry to have made you feel left out. did...more',\n",
              " 'hot butter cuttle fish - on point ! ... staff - very kind very friendly... desert  - the panna cotta itself is worth the drive...',\n",
              " 'friendly welcome and the service good and faithfully. it is very important and delicious meals consisting of recognized hotels in sri lanka.very important and delicious meals consisting of recognized hotels in sri lanka. customer needs to understand well the an organization is maintained constantly fulfill...the needs of the spiritmore',\n",
              " 'we  like to  write a review about  our last week visit to oak ray flower drum restaurant . the welcome was very  pleasing , specially we were served by  mr shantha  pathirana , he is a  talented person who can convince the costumer  what to...have , specially myself , didn t had the knowledge of what is the best dish to have . his service was exceptional , and the food was amazingly delicious  . - by aruna  & mrs . nimalasiri.more , b dear guest greetings from  oak ray flower drum. thank you for taking time to write review about your recent experince with us. it is a pleasure to here that you loved the food and service. we shall certainly convey your  thanks to staff specially name...more',\n",
              " 'visited this place for a business lunch with some of my foreign colleagues. this pace is located at the heart of colombo. it s a pretty nice restaurant i must say. interior was nicely decorated and appealing.   the staff was very helpful and even they were...kind enough to made some custom meals as requested by my foreign friends. food was really delicious and portions were reasonable. we have ordered some grilled chicken, prawn penne pasta and fajitas a la mexicana.  super nice place to pay a visit and i recommend this place for sure.more',\n",
              " 'on a tour and stayed here for 2 nights. was in room 217 please be aware this side of the hotel is just above the function room which holds wedding etc...but at 1am one morning someone was cleaning and moving empty bottles...so be aware.  to...management i would check with the cleaning times at the side of this function area because anyone on this side of your hotel will be woken at all hours..especially on the 2nd floor. the hotel is on a busy road as well but staff are nice and the breakfast was nice to be positivemore',\n",
              " 'the view and the tea production knowledge that are giving to the visitors is brilliant,  service at the lounge have be improved because to keep the professional standard service. hope to visit again with my family. thank you for your great valuable hospitality.']"
            ]
          },
          "metadata": {
            "tags": []
          },
          "execution_count": 19
        }
      ]
    },
    {
      "cell_type": "code",
      "metadata": {
        "id": "kqZNVG4baRJ6"
      },
      "source": [
        "# Create token ids (input ids) for each review\n",
        "# Train dataset\n",
        "train_input_ids = [tokenizer.encode(train_reviews[i],add_special_tokens = True) for i in range(0,len(train_reviews))]\n",
        "# Val dataset\n",
        "val_input_ids = [tokenizer.encode(val_reviews[i],add_special_tokens = True) for i in range(0,len(val_reviews))]\n",
        "# Test dataset\n",
        "test_input_ids = [tokenizer.encode(test_reviews[i],add_special_tokens = True) for i in range(0,len(test_reviews))]"
      ],
      "execution_count": null,
      "outputs": []
    },
    {
      "cell_type": "markdown",
      "metadata": {
        "id": "SVXQcZcqbEk2"
      },
      "source": [
        "###Padding & Truncating"
      ]
    },
    {
      "cell_type": "markdown",
      "metadata": {
        "id": "QVdhfSzqbLTv"
      },
      "source": [
        "Pad and truncate our sequences so that they all have the same length, Maximum explanation length."
      ]
    },
    {
      "cell_type": "code",
      "metadata": {
        "colab": {
          "base_uri": "https://localhost:8080/"
        },
        "id": "Qgb0lZR9bP2l",
        "outputId": "8eb00f27-a60b-4ad8-92b2-777c6b68ee29"
      },
      "source": [
        "max_train_length = max([len(review) for review in train_input_ids])\n",
        "max_val_length = max([len(review) for review in val_input_ids])\n",
        "max_test_length = max([len(review) for review in test_input_ids])\n",
        "                       \n",
        "print('Max review length for train data: ', max_train_length)\n",
        "print('Max review length for dev/validation data: ', max_val_length)\n",
        "print('Max review length for test data: ', max_test_length)"
      ],
      "execution_count": null,
      "outputs": [
        {
          "output_type": "stream",
          "text": [
            "Max review length for train data:  490\n",
            "Max review length for dev/validation data:  456\n",
            "Max review length for test data:  489\n"
          ],
          "name": "stdout"
        }
      ]
    },
    {
      "cell_type": "code",
      "metadata": {
        "colab": {
          "base_uri": "https://localhost:8080/"
        },
        "id": "DjlWdSqrcI5n",
        "outputId": "31522dc6-ac92-4fe6-de6f-f0a6bfa2419d"
      },
      "source": [
        "from keras.preprocessing.sequence import pad_sequences    # Pad utility function to pad sequences to maximum length.\n",
        " \n",
        "# Train dataset\n",
        "Max_length = max_train_length\n",
        "print('\\nPadding/truncating all sentences to %d values for train dataset...' % Max_length)\n",
        "# Pad our input tokens with value 0.\n",
        "# \"post\" indicates that we want to pad and truncate at the end of the sequence\n",
        "train_input_ids = pad_sequences(train_input_ids, maxlen=Max_length, dtype=\"long\", \n",
        "                          value=0, truncating=\"post\", padding=\"post\")\n",
        "\n",
        "# Validation dataset\n",
        "Max_length = max_val_length   \n",
        "print('\\nPadding/truncating all sentences to %d values for val dataset...' % Max_length)\n",
        "val_input_ids = pad_sequences(val_input_ids, maxlen=Max_length, dtype=\"long\", \n",
        "                          value=0, truncating=\"post\", padding=\"post\")\n",
        "\n",
        "# Test dataset\n",
        "Max_length = max_test_length\n",
        "print('\\nPadding/truncating all sentences to %d values for test dataset' % Max_length)\n",
        "test_input_ids = pad_sequences(test_input_ids, maxlen=Max_length, dtype=\"long\", \n",
        "                          value=0, truncating=\"post\", padding=\"post\")\n",
        "print('\\n All are done.')"
      ],
      "execution_count": null,
      "outputs": [
        {
          "output_type": "stream",
          "text": [
            "\n",
            "Padding/truncating all sentences to 490 values for train dataset...\n",
            "\n",
            "Padding/truncating all sentences to 456 values for val dataset...\n",
            "\n",
            "Padding/truncating all sentences to 489 values for test dataset\n",
            "\n",
            " All are done.\n"
          ],
          "name": "stdout"
        }
      ]
    },
    {
      "cell_type": "markdown",
      "metadata": {
        "id": "Ibh4FyRPI6mq"
      },
      "source": [
        "##### Let's see how a revew looks before & after tokenization with padding."
      ]
    },
    {
      "cell_type": "code",
      "metadata": {
        "colab": {
          "base_uri": "https://localhost:8080/",
          "height": 69
        },
        "id": "21iS95Mf_X2J",
        "outputId": "2b563828-7886-40c1-9c0c-a8f6b5e5b679"
      },
      "source": [
        "# Before tokenization\n",
        "train_reviews[0]"
      ],
      "execution_count": null,
      "outputs": [
        {
          "output_type": "execute_result",
          "data": {
            "application/vnd.google.colaboratory.intrinsic+json": {
              "type": "string"
            },
            "text/plain": [
              "'i had the most precious meal at geek hq surrounded by all the super heroes i love.  this is a place that everyone can go and enjoy the meals. they are very unique and the dishes are amazingly delicious. very friendly and nice staff. 100%...recommending this place. it definitely will be a memorable experience in colombo.more'"
            ]
          },
          "metadata": {
            "tags": []
          },
          "execution_count": 23
        }
      ]
    },
    {
      "cell_type": "code",
      "metadata": {
        "colab": {
          "base_uri": "https://localhost:8080/"
        },
        "id": "tBCw60W_JsDg",
        "outputId": "08fec5f1-a691-435c-a14c-9ee4465b13a2"
      },
      "source": [
        "# After tokenization\n",
        "train_input_ids[0]"
      ],
      "execution_count": null,
      "outputs": [
        {
          "output_type": "execute_result",
          "data": {
            "text/plain": [
              "array([  101,  1045,  2018,  1996,  2087,  9062,  7954,  2012, 29294,\n",
              "       16260,  5129,  2011,  2035,  1996,  3565,  7348,  1045,  2293,\n",
              "        1012,  2023,  2003,  1037,  2173,  2008,  3071,  2064,  2175,\n",
              "        1998,  5959,  1996, 12278,  1012,  2027,  2024,  2200,  4310,\n",
              "        1998,  1996, 10447,  2024, 29350, 12090,  1012,  2200,  5379,\n",
              "        1998,  3835,  3095,  1012,  2531,  1003,  1012,  1012,  1012,\n",
              "       16755,  2075,  2023,  2173,  1012,  2009,  5791,  2097,  2022,\n",
              "        1037, 13432,  3325,  1999, 16224,  1012,  2062,   102,     0,\n",
              "           0,     0,     0,     0,     0,     0,     0,     0,     0,\n",
              "           0,     0,     0,     0,     0,     0,     0,     0,     0,\n",
              "           0,     0,     0,     0,     0,     0,     0,     0,     0,\n",
              "           0,     0,     0,     0,     0,     0,     0,     0,     0,\n",
              "           0,     0,     0,     0,     0,     0,     0,     0,     0,\n",
              "           0,     0,     0,     0,     0,     0,     0,     0,     0,\n",
              "           0,     0,     0,     0,     0,     0,     0,     0,     0,\n",
              "           0,     0,     0,     0,     0,     0,     0,     0,     0,\n",
              "           0,     0,     0,     0,     0,     0,     0,     0,     0,\n",
              "           0,     0,     0,     0,     0,     0,     0,     0,     0,\n",
              "           0,     0,     0,     0,     0,     0,     0,     0,     0,\n",
              "           0,     0,     0,     0,     0,     0,     0,     0,     0,\n",
              "           0,     0,     0,     0,     0,     0,     0,     0,     0,\n",
              "           0,     0,     0,     0,     0,     0,     0,     0,     0,\n",
              "           0,     0,     0,     0,     0,     0,     0,     0,     0,\n",
              "           0,     0,     0,     0,     0,     0,     0,     0,     0,\n",
              "           0,     0,     0,     0,     0,     0,     0,     0,     0,\n",
              "           0,     0,     0,     0,     0,     0,     0,     0,     0,\n",
              "           0,     0,     0,     0,     0,     0,     0,     0,     0,\n",
              "           0,     0,     0,     0,     0,     0,     0,     0,     0,\n",
              "           0,     0,     0,     0,     0,     0,     0,     0,     0,\n",
              "           0,     0,     0,     0,     0,     0,     0,     0,     0,\n",
              "           0,     0,     0,     0,     0,     0,     0,     0,     0,\n",
              "           0,     0,     0,     0,     0,     0,     0,     0,     0,\n",
              "           0,     0,     0,     0,     0,     0,     0,     0,     0,\n",
              "           0,     0,     0,     0,     0,     0,     0,     0,     0,\n",
              "           0,     0,     0,     0,     0,     0,     0,     0,     0,\n",
              "           0,     0,     0,     0,     0,     0,     0,     0,     0,\n",
              "           0,     0,     0,     0,     0,     0,     0,     0,     0,\n",
              "           0,     0,     0,     0,     0,     0,     0,     0,     0,\n",
              "           0,     0,     0,     0,     0,     0,     0,     0,     0,\n",
              "           0,     0,     0,     0,     0,     0,     0,     0,     0,\n",
              "           0,     0,     0,     0,     0,     0,     0,     0,     0,\n",
              "           0,     0,     0,     0,     0,     0,     0,     0,     0,\n",
              "           0,     0,     0,     0,     0,     0,     0,     0,     0,\n",
              "           0,     0,     0,     0,     0,     0,     0,     0,     0,\n",
              "           0,     0,     0,     0,     0,     0,     0,     0,     0,\n",
              "           0,     0,     0,     0,     0,     0,     0,     0,     0,\n",
              "           0,     0,     0,     0,     0,     0,     0,     0,     0,\n",
              "           0,     0,     0,     0,     0,     0,     0,     0,     0,\n",
              "           0,     0,     0,     0,     0,     0,     0,     0,     0,\n",
              "           0,     0,     0,     0,     0,     0,     0,     0,     0,\n",
              "           0,     0,     0,     0,     0,     0,     0,     0,     0,\n",
              "           0,     0,     0,     0,     0,     0,     0,     0,     0,\n",
              "           0,     0,     0,     0,     0,     0,     0,     0,     0,\n",
              "           0,     0,     0,     0,     0,     0,     0,     0,     0,\n",
              "           0,     0,     0,     0])"
            ]
          },
          "metadata": {
            "tags": []
          },
          "execution_count": 24
        }
      ]
    },
    {
      "cell_type": "markdown",
      "metadata": {
        "id": "84vVmjW_dS0f"
      },
      "source": [
        "Tokens 101, & 102 represents the starting & ending of the sentence. Token 0 is the paddded token. All other tokens are encoded for each word in a sentence."
      ]
    },
    {
      "cell_type": "markdown",
      "metadata": {
        "id": "ttcFfNmieXJC"
      },
      "source": [
        "### Attention Masks"
      ]
    },
    {
      "cell_type": "markdown",
      "metadata": {
        "id": "-fz6Ek8RebPH"
      },
      "source": [
        "The attention mask simply makes it explicit which tokens are actual words versus which are padding."
      ]
    },
    {
      "cell_type": "code",
      "metadata": {
        "id": "vz1yKGqneiVe"
      },
      "source": [
        "# Create attention masks\n",
        "\n",
        "# Train dataset\n",
        "train_attention_masks = [[int(token_id > 0) for token_id in review]\n",
        "                         for review in train_input_ids]\n",
        "# dev dataset\n",
        "val_attention_masks = [[int(token_id > 0) for token_id in review]\n",
        "                         for review in val_input_ids]\n",
        "# Test dataset\n",
        "test_attention_masks = [[int(token_id > 0) for token_id in review]\n",
        "                         for review in test_input_ids]"
      ],
      "execution_count": null,
      "outputs": []
    },
    {
      "cell_type": "code",
      "metadata": {
        "id": "GXES16EAe6i3"
      },
      "source": [
        "# Convert all inputs and labels into torch tensors, the required datatype for our model.\n",
        "\n",
        "# input_ids\n",
        "train_inputs = torch.tensor(train_input_ids)\n",
        "val_inputs = torch.tensor(val_input_ids)\n",
        "test_inputs = torch.tensor(test_input_ids)\n",
        "# labels\n",
        "train_labels = torch.tensor(y_train.values)\n",
        "val_labels = torch.tensor(y_val.values)\n",
        "test_labels = torch.tensor(y_test.values)\n",
        "# attention masks\n",
        "train_masks = torch.tensor(train_attention_masks)\n",
        "val_masks = torch.tensor(val_attention_masks)\n",
        "test_masks = torch.tensor(test_attention_masks)"
      ],
      "execution_count": null,
      "outputs": []
    },
    {
      "cell_type": "code",
      "metadata": {
        "id": "hl0vk6SofwmZ"
      },
      "source": [
        "# Create a DataLoader to load our datasets\n",
        "\n",
        "batch_size = 8\n",
        "\n",
        "# Create the DataLoader for our training set.\n",
        "train_data = TensorDataset(train_inputs, train_masks, train_labels)\n",
        "train_sampler = RandomSampler(train_data)\n",
        "train_dataloader = DataLoader(train_data, sampler=train_sampler, batch_size=batch_size)\n",
        "\n",
        "# Create the DataLoader for our val set.\n",
        "val_data = TensorDataset(val_inputs, val_masks, val_labels)\n",
        "val_sampler = SequentialSampler(val_data)\n",
        "val_dataloader = DataLoader(val_data, sampler=val_sampler, batch_size=batch_size)\n",
        "\n",
        "# Create the DataLoader for our test set.\n",
        "test_data = TensorDataset(test_inputs, test_masks, test_labels)\n",
        "test_sampler = SequentialSampler(test_data)\n",
        "test_dataloader = DataLoader(test_data, sampler=test_sampler, batch_size=batch_size)"
      ],
      "execution_count": null,
      "outputs": []
    },
    {
      "cell_type": "code",
      "metadata": {
        "colab": {
          "base_uri": "https://localhost:8080/"
        },
        "id": "h4wDCYZglTYE",
        "outputId": "589765c9-7111-4d15-af30-a5d73df998b5"
      },
      "source": [
        "# Number of classes / labels\n",
        "n_classes = y_train.nunique()\n",
        "n_classes"
      ],
      "execution_count": null,
      "outputs": [
        {
          "output_type": "execute_result",
          "data": {
            "text/plain": [
              "2"
            ]
          },
          "metadata": {
            "tags": []
          },
          "execution_count": 28
        }
      ]
    },
    {
      "cell_type": "markdown",
      "metadata": {
        "id": "5tMzrfwsgKM_"
      },
      "source": [
        "## **Build a sentiment Classifier**"
      ]
    },
    {
      "cell_type": "markdown",
      "metadata": {
        "id": "m6KUN7ifgPwb"
      },
      "source": [
        "**BertForSequenceClassification**"
      ]
    },
    {
      "cell_type": "markdown",
      "metadata": {
        "id": "smbZEZuuk-zW"
      },
      "source": [
        "We use the **BertForSequenceClassification** model for our classification task. It is a normal BERT with an added single layer on top of it for classification."
      ]
    },
    {
      "cell_type": "code",
      "metadata": {
        "colab": {
          "base_uri": "https://localhost:8080/",
          "height": 220,
          "referenced_widgets": [
            "13744243d52145459c861f2fe6078510",
            "91894e173db44225a42c9db45a4bbf61",
            "63da01dc4ae74d34b883f5f48d986975",
            "f157d79bc6f345e6909b35719d4bdef2",
            "989375acf8194ee9b940614b899d52bc",
            "36781b37eeb049fab51a6dc839d699c8",
            "3fa143976e8142d2a1de2106bbf1a6d5",
            "0829c32ad80a4c908c95c87a5b60b4d7",
            "c76e04e69e30443e837ac067b3515115",
            "41ee9befaad74303a245b3b8b02fdcf4",
            "c549665b198b4fa78bf1efd9dd64a4d4",
            "a17f0517a3914066a38ad0c00032e748",
            "c633b883c42745e0af4d206f9d41f96c",
            "70fa4425aaa04078a8c7d6f308786fc8",
            "55a703e0ff554724b0cae213643dd9be",
            "e9a5e43f412440148fda89dd16ff8008"
          ]
        },
        "id": "ksQ6vK4KgU_X",
        "outputId": "613c8d20-d7ee-4c93-fa58-4508e676a1e4"
      },
      "source": [
        "model = BertForSequenceClassification.from_pretrained(pre_trained_model,num_labels = n_classes,\n",
        "                                                          output_attentions = False,output_hidden_states = False )"
      ],
      "execution_count": null,
      "outputs": [
        {
          "output_type": "display_data",
          "data": {
            "application/vnd.jupyter.widget-view+json": {
              "model_id": "13744243d52145459c861f2fe6078510",
              "version_minor": 0,
              "version_major": 2
            },
            "text/plain": [
              "HBox(children=(FloatProgress(value=0.0, description='Downloading', max=570.0, style=ProgressStyle(description_…"
            ]
          },
          "metadata": {
            "tags": []
          }
        },
        {
          "output_type": "stream",
          "text": [
            "\n"
          ],
          "name": "stdout"
        },
        {
          "output_type": "display_data",
          "data": {
            "application/vnd.jupyter.widget-view+json": {
              "model_id": "c76e04e69e30443e837ac067b3515115",
              "version_minor": 0,
              "version_major": 2
            },
            "text/plain": [
              "HBox(children=(FloatProgress(value=0.0, description='Downloading', max=440473133.0, style=ProgressStyle(descri…"
            ]
          },
          "metadata": {
            "tags": []
          }
        },
        {
          "output_type": "stream",
          "text": [
            "\n"
          ],
          "name": "stdout"
        },
        {
          "output_type": "stream",
          "text": [
            "Some weights of the model checkpoint at bert-base-uncased were not used when initializing BertForSequenceClassification: ['cls.predictions.transform.dense.bias', 'cls.predictions.transform.LayerNorm.weight', 'cls.predictions.bias', 'cls.predictions.transform.dense.weight', 'cls.seq_relationship.bias', 'cls.seq_relationship.weight', 'cls.predictions.transform.LayerNorm.bias', 'cls.predictions.decoder.weight']\n",
            "- This IS expected if you are initializing BertForSequenceClassification from the checkpoint of a model trained on another task or with another architecture (e.g. initializing a BertForSequenceClassification model from a BertForPreTraining model).\n",
            "- This IS NOT expected if you are initializing BertForSequenceClassification from the checkpoint of a model that you expect to be exactly identical (initializing a BertForSequenceClassification model from a BertForSequenceClassification model).\n",
            "Some weights of BertForSequenceClassification were not initialized from the model checkpoint at bert-base-uncased and are newly initialized: ['classifier.bias', 'classifier.weight']\n",
            "You should probably TRAIN this model on a down-stream task to be able to use it for predictions and inference.\n"
          ],
          "name": "stderr"
        }
      ]
    },
    {
      "cell_type": "markdown",
      "metadata": {
        "id": "zlDD0ekkldqe"
      },
      "source": [
        "### Move model to the GPU"
      ]
    },
    {
      "cell_type": "code",
      "metadata": {
        "id": "5r2GuQ59lhkV"
      },
      "source": [
        "model = model.to(device) "
      ],
      "execution_count": null,
      "outputs": []
    },
    {
      "cell_type": "markdown",
      "metadata": {
        "id": "CDG0P_q5lrOI"
      },
      "source": [
        "### Optimizer & Learning Rate Scheduler"
      ]
    },
    {
      "cell_type": "markdown",
      "metadata": {
        "id": "a4VT8jA-l2a8"
      },
      "source": [
        "As per original paper on BERT, we will use [AdamW]('https://huggingface.co/transformers/main_classes/optimizer_schedules.html#adamw') optimizer for correcting weight decay. We will also use, linear scheduler with no warm up steps:"
      ]
    },
    {
      "cell_type": "code",
      "metadata": {
        "id": "3RxQoF0wl6k9"
      },
      "source": [
        "epochs=2\n",
        "# Define optimizer for updating weights\n",
        "optimizer=AdamW(model.parameters(),lr=3e-5)\n",
        "total_steps=len(train_dataloader)*epochs\n",
        "\n",
        "# Scheduler for learning rate change\n",
        "scheduler=get_linear_schedule_with_warmup(\n",
        "    optimizer,\n",
        "    num_warmup_steps=0,\n",
        "    num_training_steps=total_steps\n",
        ")\n",
        " # Define loss function & move it to GPU\n",
        "loss_fn=nn.CrossEntropyLoss().to(device)"
      ],
      "execution_count": null,
      "outputs": []
    },
    {
      "cell_type": "markdown",
      "metadata": {
        "id": "WJSxizPcmCZJ"
      },
      "source": [
        "### Train our model"
      ]
    },
    {
      "cell_type": "markdown",
      "metadata": {
        "id": "Hc-diW99mG-W"
      },
      "source": [
        "**Define a function for calculating elapsed time.**"
      ]
    },
    {
      "cell_type": "code",
      "metadata": {
        "id": "RFFefySQmLGi"
      },
      "source": [
        "def format_time(elapsed):\n",
        "    # Round to the nearest second\n",
        "    elapsed_round = int(round(elapsed))\n",
        "    # Format time in hh:mm:ss\n",
        "    return str(datetime.timedelta(seconds = elapsed_round))"
      ],
      "execution_count": null,
      "outputs": []
    },
    {
      "cell_type": "markdown",
      "metadata": {
        "id": "ox9L0ZHymRAL"
      },
      "source": [
        "Define a function to calculate accuracy"
      ]
    },
    {
      "cell_type": "code",
      "metadata": {
        "id": "1EjrDj2wmVbY"
      },
      "source": [
        "def accuracy(preds, labels):\n",
        "    preds = np.argmax(preds, axis=1).flatten()\n",
        "    labels = labels.flatten()\n",
        "    return np.sum(preds == labels) / len(labels)"
      ],
      "execution_count": null,
      "outputs": []
    },
    {
      "cell_type": "markdown",
      "metadata": {
        "id": "4pc_F-LjmbX6"
      },
      "source": [
        "**Start training...**"
      ]
    },
    {
      "cell_type": "code",
      "metadata": {
        "colab": {
          "base_uri": "https://localhost:8080/"
        },
        "id": "ZFPnhEybmjyx",
        "outputId": "cdf9e411-a270-4954-bc76-e3e938ba31e7"
      },
      "source": [
        "# Store loss value for each epoch\n",
        "loss_values = []\n",
        "acc_values = []\n",
        "for epoch in range(0,epochs):\n",
        "     \n",
        "        # Perform forward pass over the training dataset\n",
        "        print(\"\\n ======== Epoch {:}/{:} ========\".format(epoch+1,epochs))\n",
        "        print('Training....')\n",
        "        \n",
        "        # Measure how long a epoch takes\n",
        "        t0 = time.time()\n",
        "        # Reset total loss  & acc for this epoch\n",
        "        total_loss = 0\n",
        "        total_acc = 0\n",
        "        \n",
        "        # Put the model in training mode\n",
        "        model.train()\n",
        "        \n",
        "        # For each training batch\n",
        "        for step, batch in enumerate(train_dataloader):\n",
        "            # Update progress for 40 steps\n",
        "            if (step % 40 ==0) & (not step==0):\n",
        "                # Calculate elapsed time in minutes\n",
        "                elapsed = format_time((time.time()-t0))\n",
        "                # Report progress\n",
        "                print(' Batch {:>5,} of {:>5,}. Elapsed:{:}.'.format(step,len(train_dataloader),elapsed))\n",
        "            \n",
        "            # Unpack training batch from trainloader & move to GPU\n",
        "            b_input_ids = batch[0].to(device)  # 0 - input ids\n",
        "            b_attention_mask = batch[1].to(device) # 1 - input masks\n",
        "            b_labels = batch[2].to(device)     # 2 - labels\n",
        "            \n",
        "            # Clear default gradients accumulated in Pytorch\n",
        "            model.zero_grad()\n",
        "            \n",
        "            # Output the results\n",
        "            outputs = model(input_ids = b_input_ids, attention_mask = b_attention_mask, labels=b_labels) # Return tuple\n",
        "            # Loss value from output\n",
        "            loss = outputs.loss   # loss\n",
        "            \n",
        "            # Update total loss\n",
        "            total_loss += loss.item()\n",
        "            \n",
        "            preds = outputs.logits  # Output probabilities\n",
        "            # Move logits and labels to CPU\n",
        "            preds = preds.detach().cpu().numpy()\n",
        "            label_ids = b_labels.to('cpu').numpy()\n",
        "\n",
        "            # Calculate the accuracy for this batch of test sentences.\n",
        "            tmp_train_accuracy = accuracy(preds, label_ids)\n",
        "\n",
        "            # Accumulate the total accuracy.\n",
        "            total_acc += tmp_train_accuracy\n",
        "            \n",
        "            # Perform a backward pass to calculate gradients\n",
        "            loss.backward()\n",
        "            \n",
        "            # To avoid exploding vanishing gradients problem,clip the norm of the gradients to 1.0\n",
        "            torch.nn.utils.clip_grad_norm_(model.parameters(),1.0)\n",
        "            \n",
        "            # Update the parameters (weights)\n",
        "            optimizer.step()\n",
        "            \n",
        "            # Update the learning rate\n",
        "            scheduler.step()\n",
        "            \n",
        "        # Calculate the average loss over training data\n",
        "        avg_total_loss = total_loss/len(train_dataloader)\n",
        "            \n",
        "        # Store the loss values\n",
        "        loss_values.append(avg_total_loss)\n",
        "\n",
        "        # Calculate the average loss over the training data.\n",
        "        avg_train_acc = total_acc / len(train_dataloader)\n",
        "\n",
        "        # Store the loss value for plotting the learning curve.\n",
        "        acc_values.append(avg_train_acc)\n",
        "\n",
        "        print(\"\")\n",
        "        print(\"\\nAverage training accuracy: {0:.2f}\".format(avg_train_acc))\n",
        "        \n",
        "        print('Average training loss : {0:.2f}'.format(avg_total_loss))\n",
        "        print('Training epoch took: {:}'.format(format_time(time.time()- t0)))\n",
        "        \n",
        "        ####### Validation #######\n",
        "        # After each epoch perform validation to check model performance\n",
        "        print('\\n Running validation...')\n",
        "        \n",
        "        t0 = time.time()\n",
        "        #put model in evaluation mode\n",
        "        model.eval()\n",
        "        \n",
        "        # Tracking variables\n",
        "        eval_loss,eval_acc = 0,0\n",
        "        nb_eval_steps,nb_eval_examples = 0,0\n",
        "        \n",
        "        # Evaluate val data for each epoch\n",
        "        for batch in val_dataloader:\n",
        "            # Move batch to GPU\n",
        "            batch = tuple(t.to(device) for t in batch)\n",
        "            # Unpack inputs from dev dataloader\n",
        "            b_input_ids, b_attention_mask, b_labels = batch\n",
        "            # Tell model not to compute gradients to save memory & speed up validation\n",
        "            with torch.no_grad():\n",
        "                # Forward pass, calculate logit prediction\n",
        "                outputs = model(input_ids=b_input_ids, attention_mask=b_attention_mask)\n",
        "            # logits are class probabilities & get them from outputs\n",
        "            logits = outputs[0]\n",
        "            \n",
        "            # Move logits & labels to CPU\n",
        "            logits = logits.detach().cpu().numpy()\n",
        "            labels = b_labels.to('cpu').numpy()\n",
        "                \n",
        "            # Calculate accuracy for this batch\n",
        "            eval_accuracy = accuracy(logits,labels)\n",
        "                \n",
        "            # Accumulate total evaluation accuracy\n",
        "            eval_acc += eval_accuracy\n",
        "                \n",
        "            # Track the number of steps\n",
        "            nb_eval_steps += 1\n",
        "                \n",
        "        # Report the final validation accuracy\n",
        "        print(' Accuracy {0:.2f}'.format(eval_acc/nb_eval_steps))\n",
        "        print(' Validation took : {:}'.format(format_time(time.time() - t0)))\n",
        "            \n",
        "            \n",
        "print('\\n Training completed!')"
      ],
      "execution_count": null,
      "outputs": [
        {
          "output_type": "stream",
          "text": [
            "\n",
            " ======== Epoch 1/2 ========\n",
            "Training....\n",
            " Batch    40 of   386. Elapsed:0:00:28.\n",
            " Batch    80 of   386. Elapsed:0:00:56.\n",
            " Batch   120 of   386. Elapsed:0:01:25.\n",
            " Batch   160 of   386. Elapsed:0:01:56.\n",
            " Batch   200 of   386. Elapsed:0:02:26.\n",
            " Batch   240 of   386. Elapsed:0:02:55.\n",
            " Batch   280 of   386. Elapsed:0:03:26.\n",
            " Batch   320 of   386. Elapsed:0:03:56.\n",
            " Batch   360 of   386. Elapsed:0:04:26.\n",
            "\n",
            "\n",
            "Average training accuracy: 0.91\n",
            "Average training loss : 0.24\n",
            "Training epoch took: 0:04:46\n",
            "\n",
            " Running validation...\n",
            " Accuracy 0.93\n",
            " Validation took : 0:00:12\n",
            "\n",
            " ======== Epoch 2/2 ========\n",
            "Training....\n",
            " Batch    40 of   386. Elapsed:0:00:30.\n",
            " Batch    80 of   386. Elapsed:0:01:00.\n",
            " Batch   120 of   386. Elapsed:0:01:30.\n",
            " Batch   160 of   386. Elapsed:0:02:00.\n",
            " Batch   200 of   386. Elapsed:0:02:31.\n",
            " Batch   240 of   386. Elapsed:0:03:01.\n",
            " Batch   280 of   386. Elapsed:0:03:31.\n",
            " Batch   320 of   386. Elapsed:0:04:01.\n",
            " Batch   360 of   386. Elapsed:0:04:31.\n",
            "\n",
            "\n",
            "Average training accuracy: 0.98\n",
            "Average training loss : 0.09\n",
            "Training epoch took: 0:04:50\n",
            "\n",
            " Running validation...\n",
            " Accuracy 0.95\n",
            " Validation took : 0:00:12\n",
            "\n",
            " Training completed!\n"
          ],
          "name": "stdout"
        }
      ]
    },
    {
      "cell_type": "markdown",
      "metadata": {
        "id": "7xvDwcGZAAFl"
      },
      "source": [
        "**Plot training loss & Accuracy vs Epoch**:"
      ]
    },
    {
      "cell_type": "code",
      "metadata": {
        "id": "4JXISjrOASOt"
      },
      "source": [
        "df1 = pd.DataFrame(loss_values,columns=['Loss'])\n",
        "df1['ACC'] = acc_values"
      ],
      "execution_count": null,
      "outputs": []
    },
    {
      "cell_type": "code",
      "metadata": {
        "id": "y4MWgzG9Bbdg"
      },
      "source": [
        "df1.index+=1"
      ],
      "execution_count": null,
      "outputs": []
    },
    {
      "cell_type": "code",
      "metadata": {
        "colab": {
          "base_uri": "https://localhost:8080/",
          "height": 424
        },
        "id": "Rq08k_vRAJBu",
        "outputId": "4bd445a4-bb01-4d4a-cf93-e955160a50f8"
      },
      "source": [
        "# Plot training loss vs epochs\n",
        "# Use plot styling from seaborn.\n",
        "sns.set(style='darkgrid')\n",
        "\n",
        "# Increase the plot size and font size.\n",
        "sns.set(font_scale=1.5)\n",
        "plt.rcParams[\"figure.figsize\"] = (12,6)\n",
        "\n",
        "# Plot the learning curve.\n",
        "sns.lineplot(data=df1,x=df1.index,y=df1.Loss)\n",
        "\n",
        "# Label the plot.\n",
        "plt.title(\"Training loss\")\n",
        "plt.xlabel(\"Epoch\")\n",
        "plt.ylabel(\"Loss\")\n",
        "\n",
        "plt.show()"
      ],
      "execution_count": null,
      "outputs": [
        {
          "output_type": "display_data",
          "data": {
            "image/png": "[encoded data removed]",
            "text/plain": [
              "<Figure size 864x432 with 1 Axes>"
            ]
          },
          "metadata": {
            "tags": [],
            "image/png": {
              "width": 751,
              "height": 407
            }
          }
        }
      ]
    },
    {
      "cell_type": "code",
      "metadata": {
        "colab": {
          "base_uri": "https://localhost:8080/"
        },
        "id": "gQpWNfNICaXT",
        "outputId": "02d91eb7-02dd-47da-d3aa-25d050dc8438"
      },
      "source": [
        "# Plot training acc vs epochs\n",
        "# Use plot styling from seaborn.\n",
        "sns.set(style='darkgrid')\n",
        "\n",
        "# Increase the plot size and font size.\n",
        "sns.set(font_scale=1.5)\n",
        "plt.rcParams[\"figure.figsize\"] = (12,6)\n",
        "\n",
        "# Plot the learning curve.\n",
        "sns.lineplot(data=df1,x=df1.index,y=df1.ACC)\n",
        "\n",
        "# Label the plot.\n",
        "plt.title(\"Training ACC\")\n",
        "plt.xlabel(\"Epoch\")\n",
        "plt.ylabel(\"ACC\")\n",
        "\n",
        "plt.show()"
      ],
      "execution_count": null,
      "outputs": [
        {
          "output_type": "display_data",
          "data": {
            "image/png": "[encoded data removed]",
            "text/plain": [
              "<Figure size 864x432 with 1 Axes>"
            ]
          },
          "metadata": {
            "tags": [],
            "image/png": {
              "width": 751,
              "height": 407
            }
          }
        }
      ]
    },
    {
      "cell_type": "code",
      "metadata": {
        "colab": {
          "base_uri": "https://localhost:8080/"
        },
        "id": "_g_rCTZVDLOH",
        "outputId": "ff1cf1db-3e77-49f2-da2c-12dcaf40a606"
      },
      "source": [
        "# Model performance on unseen data (test data)\n",
        "print('\\n Running testing on unseen data...')\n",
        "\n",
        "#put model in evaluation model\n",
        "model.eval()\n",
        "\n",
        "# Tracking variables\n",
        "# Tracking variables\n",
        "predictions , true_labels = [], []\n",
        "\n",
        "# Evaluate test data\n",
        "for batch in test_dataloader:\n",
        "    # Move batch to GPU\n",
        "    batch = tuple(t.to(device) for t in batch)\n",
        "    # Unpack inputs from test dataloader\n",
        "    b_input_ids,b_attention_mask,b_labels = batch\n",
        "    # Tell model not to compute gradients to save memory & speed up validation\n",
        "    with torch.no_grad():\n",
        "        # Forward pass, calculate logit prediction\n",
        "        outputs = model(input_ids=b_input_ids,attention_mask=b_attention_mask)\n",
        "    # logits are class probabilities & get them from outputs\n",
        "    logits = outputs[0]\n",
        "\n",
        "    # Move logits & labels to CPU\n",
        "    #logits = logits.detach().cpu().numpy()\n",
        "    #labels = b_labels.to('cpu').numpy()\n",
        "    \n",
        "    # Store predictions and true labels\n",
        "    predictions.extend(logits.tolist())\n",
        "    true_labels.extend(b_labels.tolist())\n",
        "\n",
        "print('Done')"
      ],
      "execution_count": null,
      "outputs": [
        {
          "output_type": "stream",
          "text": [
            "\n",
            " Running testing on unseen data...\n",
            "Done\n"
          ],
          "name": "stdout"
        }
      ]
    },
    {
      "cell_type": "code",
      "metadata": {
        "id": "YEq4XpTfQAEF"
      },
      "source": [
        "# Convert logits to tensor\n",
        "preds = torch.tensor(predictions)"
      ],
      "execution_count": null,
      "outputs": []
    },
    {
      "cell_type": "code",
      "metadata": {
        "id": "luEXIxxrPe2U"
      },
      "source": [
        "import torch.nn.functional as F\n",
        "# Apply Softmax on logits/preds\n",
        "preds = F.softmax(preds,dim=1)"
      ],
      "execution_count": null,
      "outputs": []
    },
    {
      "cell_type": "code",
      "metadata": {
        "id": "HHAGs51ORM57"
      },
      "source": [
        "# convert to numpy arrays\n",
        "preds = np.array(preds)\n",
        "true_labels = np.array(true_labels)"
      ],
      "execution_count": null,
      "outputs": []
    },
    {
      "cell_type": "markdown",
      "metadata": {
        "id": "uCQ2e5iiSMSl"
      },
      "source": [
        "### Confusion matrix"
      ]
    },
    {
      "cell_type": "code",
      "metadata": {
        "colab": {
          "base_uri": "https://localhost:8080/",
          "height": 404
        },
        "id": "azwFB1L3EjvG",
        "outputId": "05acff97-6c23-4667-ad87-ef7209295f12"
      },
      "source": [
        "def show_confusion_matrix(confusion_matrix):\n",
        "  plt.figure(figsize=(12,6))\n",
        "  hmap = sns.heatmap(confusion_matrix, annot=True, fmt=\"d\", cmap=\"cool\")\n",
        "  hmap.yaxis.set_ticklabels(hmap.yaxis.get_ticklabels(),rotation=0, ha='right')\n",
        "  hmap.xaxis.set_ticklabels(hmap.xaxis.get_ticklabels(),rotation=0, ha='right')\n",
        "  plt.ylabel('True sentiment')\n",
        "  plt.xlabel('Predicted sentiment');\n",
        "cm = confusion_matrix(true_labels, preds.argmax(1))\n",
        "class_names = ['Positive', 'Negative']\n",
        "df_cm = pd.DataFrame(cm, index=class_names, columns=class_names)\n",
        "show_confusion_matrix(df_cm)"
      ],
      "execution_count": null,
      "outputs": [
        {
          "output_type": "display_data",
          "data": {
            "image/png": "[encoded data removed]",
            "text/plain": [
              "<Figure size 864x432 with 2 Axes>"
            ]
          },
          "metadata": {
            "tags": [],
            "image/png": {
              "width": 745,
              "height": 387
            }
          }
        }
      ]
    },
    {
      "cell_type": "markdown",
      "metadata": {
        "id": "6BzhJEsOSzOI"
      },
      "source": [
        "### Classification Report"
      ]
    },
    {
      "cell_type": "code",
      "metadata": {
        "colab": {
          "base_uri": "https://localhost:8080/"
        },
        "id": "S4VGNcivS0uw",
        "outputId": "6bd6d835-f9ef-4d73-8c80-eec3aab66a1d"
      },
      "source": [
        "class_report= classification_report(true_labels, preds.argmax(1))\n",
        "print(class_report)"
      ],
      "execution_count": null,
      "outputs": [
        {
          "output_type": "stream",
          "text": [
            "              precision    recall  f1-score   support\n",
            "\n",
            "           0       0.98      0.77      0.86        69\n",
            "           1       0.95      1.00      0.97       317\n",
            "\n",
            "    accuracy                           0.96       386\n",
            "   macro avg       0.97      0.88      0.92       386\n",
            "weighted avg       0.96      0.96      0.95       386\n",
            "\n"
          ],
          "name": "stdout"
        }
      ]
    },
    {
      "cell_type": "markdown",
      "metadata": {
        "id": "FYzhlOmeTGMb"
      },
      "source": [
        "### Plot PR (Precision-Recall) curve:"
      ]
    },
    {
      "cell_type": "code",
      "metadata": {
        "colab": {
          "base_uri": "https://localhost:8080/",
          "height": 420
        },
        "id": "pTTmv6NZTIBN",
        "outputId": "8205901c-4b37-45ce-f8ae-2f7099d0bc48"
      },
      "source": [
        "# Plot PR curve\n",
        "skplt.metrics.plot_precision_recall(true_labels, preds, figsize = (12,6), text_fontsize = 15, title_fontsize = 15,\n",
        "                                   cmap = 'winter')\n",
        "plt.show()"
      ],
      "execution_count": null,
      "outputs": [
        {
          "output_type": "display_data",
          "data": {
            "image/png": "[encoded data removed]",
            "text/plain": [
              "<Figure size 864x432 with 1 Axes>"
            ]
          },
          "metadata": {
            "tags": [],
            "image/png": {
              "width": 750,
              "height": 403
            }
          }
        }
      ]
    },
    {
      "cell_type": "markdown",
      "metadata": {
        "id": "vKfy4aFSTxpH"
      },
      "source": [
        "### ROC (Receiver operating characterstic) curve:"
      ]
    },
    {
      "cell_type": "code",
      "metadata": {
        "colab": {
          "base_uri": "https://localhost:8080/",
          "height": 417
        },
        "id": "Wde1mcpdTzeM",
        "outputId": "9bb86026-89d6-47e6-c366-27d7fd666761"
      },
      "source": [
        "# Plot ROC curve\n",
        "skplt.metrics.plot_roc(true_labels, preds, figsize = (12,6), text_fontsize = 15, title_fontsize = 15,\n",
        "                      cmap = 'winter')\n",
        "plt.show()"
      ],
      "execution_count": null,
      "outputs": [
        {
          "output_type": "display_data",
          "data": {
            "image/png": "[encoded data removed]",
            "text/plain": [
              "<Figure size 864x432 with 1 Axes>"
            ]
          },
          "metadata": {
            "tags": [],
            "image/png": {
              "width": 747,
              "height": 400
            }
          }
        }
      ]
    },
    {
      "cell_type": "markdown",
      "metadata": {
        "id": "9sEYfESYGlYN"
      },
      "source": [
        "We need the Sentiment scores for all restaurants to rank them from top to bottom. So, we are create a single dataloader for all restaurants & predict sentiment score for each."
      ]
    },
    {
      "cell_type": "code",
      "metadata": {
        "id": "QZ31bQnY8aYi",
        "colab": {
          "base_uri": "https://localhost:8080/",
          "height": 171
        },
        "outputId": "42239cbb-3986-4f05-ed5b-6f813cc19540"
      },
      "source": [
        "df_reviews = df['review_preprocessed'].tolist() "
      ],
      "execution_count": null,
      "outputs": [
        {
          "output_type": "error",
          "ename": "NameError",
          "evalue": "ignored",
          "traceback": [
            "\u001b[0;31m---------------------------------------------------------------------------\u001b[0m",
            "\u001b[0;31mNameError\u001b[0m                                 Traceback (most recent call last)",
            "\u001b[0;32m<ipython-input-1-3dd81c3ad642>\u001b[0m in \u001b[0;36m<module>\u001b[0;34m()\u001b[0m\n\u001b[0;32m----> 1\u001b[0;31m \u001b[0mdf_reviews\u001b[0m \u001b[0;34m=\u001b[0m \u001b[0mdf\u001b[0m\u001b[0;34m[\u001b[0m\u001b[0;34m'review_preprocessed'\u001b[0m\u001b[0;34m]\u001b[0m\u001b[0;34m.\u001b[0m\u001b[0mtolist\u001b[0m\u001b[0;34m(\u001b[0m\u001b[0;34m)\u001b[0m\u001b[0;34m\u001b[0m\u001b[0;34m\u001b[0m\u001b[0m\n\u001b[0m",
            "\u001b[0;31mNameError\u001b[0m: name 'df' is not defined"
          ]
        }
      ]
    },
    {
      "cell_type": "code",
      "metadata": {
        "id": "KtgjvY2GNB3I"
      },
      "source": [
        "# Create token ids (input ids) for each review\n",
        "input_ids = [tokenizer.encode(df_reviews[i],add_special_tokens = True) for i in range(0,len(df_reviews))]"
      ],
      "execution_count": null,
      "outputs": []
    },
    {
      "cell_type": "markdown",
      "metadata": {
        "id": "M1C68bHaOssK"
      },
      "source": [
        "Padding & Truncating:"
      ]
    },
    {
      "cell_type": "code",
      "metadata": {
        "colab": {
          "base_uri": "https://localhost:8080/"
        },
        "id": "i_D0-8BLO13P",
        "outputId": "e0ff3dd3-1213-45f3-da93-c5cdb1cc4b46"
      },
      "source": [
        "max_length = max([len(review) for review in input_ids])\n",
        "                       \n",
        "print('Max review length for whole data: ', max_length)"
      ],
      "execution_count": null,
      "outputs": [
        {
          "output_type": "stream",
          "text": [
            "Max review length for whole data:  490\n"
          ],
          "name": "stdout"
        }
      ]
    },
    {
      "cell_type": "code",
      "metadata": {
        "colab": {
          "base_uri": "https://localhost:8080/"
        },
        "id": "MDZBSGGcPNq0",
        "outputId": "1c061aa5-2279-4085-e131-64429fe4389f"
      },
      "source": [
        "Max_length = max_length\n",
        "print('\\nPadding/truncating all sentences to %d values for whole dataset...' % Max_length)\n",
        "# Pad our input tokens with value 0.\n",
        "# \"post\" indicates that we want to pad and truncate at the end of the sequence\n",
        "input_ids = pad_sequences(input_ids, maxlen=Max_length, dtype=\"long\", \n",
        "                          value=0, truncating=\"post\", padding=\"post\")\n",
        "print('Done!')"
      ],
      "execution_count": null,
      "outputs": [
        {
          "output_type": "stream",
          "text": [
            "\n",
            "Padding/truncating all sentences to 490 values for whole dataset...\n",
            "Done!\n"
          ],
          "name": "stdout"
        }
      ]
    },
    {
      "cell_type": "code",
      "metadata": {
        "id": "bbainRH0PnFS"
      },
      "source": [
        "# Create attention mask\n",
        "attention_masks = [[int(token_id > 0) for token_id in review]\n",
        "                         for review in input_ids]"
      ],
      "execution_count": null,
      "outputs": []
    },
    {
      "cell_type": "code",
      "metadata": {
        "id": "LYqalz44N6dU"
      },
      "source": [
        "# Convert all inputs and labels into torch tensors, the required datatype for our model.\n",
        "\n",
        "# input_ids\n",
        "inputs = torch.tensor(input_ids)\n",
        "# labels\n",
        "labels = torch.tensor(df.Review_Sentiment.values)\n",
        "# attention masks\n",
        "att_masks = torch.tensor(attention_masks)"
      ],
      "execution_count": null,
      "outputs": []
    },
    {
      "cell_type": "code",
      "metadata": {
        "id": "us-C_tVEP4lq"
      },
      "source": [
        "# Create a DataLoader to load our datasets\n",
        "\n",
        "batch_size = 8\n",
        "\n",
        "# Create the DataLoader for our whole dataset.\n",
        "data = TensorDataset(inputs, att_masks, labels)\n",
        "sampler = RandomSampler(data)\n",
        "dataloader = DataLoader(data, sampler=sampler, batch_size=batch_size)"
      ],
      "execution_count": null,
      "outputs": []
    },
    {
      "cell_type": "code",
      "metadata": {
        "colab": {
          "base_uri": "https://localhost:8080/"
        },
        "id": "1J1CH0o3QeQC",
        "outputId": "4b2ceace-6a33-42a4-ac9b-2f31f7bf2dfb"
      },
      "source": [
        "# Model performance on whole data \n",
        "print('\\n Running testing on whole data...')\n",
        "\n",
        "#put model in evaluation model\n",
        "model.eval()\n",
        "\n",
        "# Tracking variables\n",
        "preds , actual_labels = [], []\n",
        "\n",
        "# Evaluate whole data\n",
        "for batch in dataloader:\n",
        "    # Move batch to GPU\n",
        "    batch = tuple(t.to(device) for t in batch)\n",
        "    # Unpack inputs from test dataloader\n",
        "    b_input_ids, b_attention_mask, b_labels = batch\n",
        "    # Tell model not to compute gradients to save memory & speed up validation\n",
        "    with torch.no_grad():\n",
        "        # Forward pass, calculate logit prediction\n",
        "        outputs = model(input_ids=b_input_ids,attention_mask=b_attention_mask)\n",
        "    # logits are class probabilities & get them from outputs\n",
        "    logits = outputs[0]\n",
        "    \n",
        "    # Store predictions and true labels\n",
        "    preds.extend(logits.tolist())\n",
        "    actual_labels.extend(b_labels.tolist())\n",
        "\n",
        "print('Done')"
      ],
      "execution_count": null,
      "outputs": [
        {
          "output_type": "stream",
          "text": [
            "\n",
            " Running testing on whole data...\n",
            "Done\n"
          ],
          "name": "stdout"
        }
      ]
    },
    {
      "cell_type": "code",
      "metadata": {
        "id": "eNxk84fRRVpB"
      },
      "source": [
        "# Convert logits to tensor\n",
        "preds = torch.tensor(preds)"
      ],
      "execution_count": null,
      "outputs": []
    },
    {
      "cell_type": "code",
      "metadata": {
        "id": "6G_khW3VRkRu"
      },
      "source": [
        "# Apply Softmax on logits/preds\n",
        "preds = F.softmax(preds,dim=1)"
      ],
      "execution_count": null,
      "outputs": []
    },
    {
      "cell_type": "code",
      "metadata": {
        "id": "iqT4ZfjAR6yl"
      },
      "source": [
        "# convert to numpy arrays\n",
        "preds = np.array(preds)"
      ],
      "execution_count": null,
      "outputs": []
    },
    {
      "cell_type": "code",
      "metadata": {
        "colab": {
          "base_uri": "https://localhost:8080/",
          "height": 289
        },
        "id": "M5E0-pWlbTDO",
        "outputId": "11b527f4-baf7-4444-f530-6105e8579655"
      },
      "source": [
        "df_final = df.drop('Review',axis=1)\n",
        "df_final.head()"
      ],
      "execution_count": null,
      "outputs": [
        {
          "output_type": "execute_result",
          "data": {
            "text/html": [
              "<div>\n",
              "<style scoped>\n",
              "    .dataframe tbody tr th:only-of-type {\n",
              "        vertical-align: middle;\n",
              "    }\n",
              "\n",
              "    .dataframe tbody tr th {\n",
              "        vertical-align: top;\n",
              "    }\n",
              "\n",
              "    .dataframe thead th {\n",
              "        text-align: right;\n",
              "    }\n",
              "</style>\n",
              "<table border=\"1\" class=\"dataframe\">\n",
              "  <thead>\n",
              "    <tr style=\"text-align: right;\">\n",
              "      <th></th>\n",
              "      <th>Title</th>\n",
              "      <th>ReviewDate</th>\n",
              "      <th>Stay Date</th>\n",
              "      <th>Restaurant_Name</th>\n",
              "      <th>Review_Sentiment</th>\n",
              "      <th>review_preprocessed</th>\n",
              "    </tr>\n",
              "  </thead>\n",
              "  <tbody>\n",
              "    <tr>\n",
              "      <th>0</th>\n",
              "      <td>b Highly recommended</td>\n",
              "      <td>b Reviewed September 14, 2020</td>\n",
              "      <td>b Date of visit: September 2020</td>\n",
              "      <td>The Four Leafed Clover</td>\n",
              "      <td>1</td>\n",
              "      <td>we went for lunch. from very first their part ...</td>\n",
              "    </tr>\n",
              "    <tr>\n",
              "      <th>1</th>\n",
              "      <td>b Excellent food, great ambience</td>\n",
              "      <td>b Reviewed September 5, 2020</td>\n",
              "      <td>b Date of visit: September 2020</td>\n",
              "      <td>The Four Leafed Clover</td>\n",
              "      <td>1</td>\n",
              "      <td>great service and delicious food. we had the l...</td>\n",
              "    </tr>\n",
              "    <tr>\n",
              "      <th>2</th>\n",
              "      <td>b Excellent Food and Place</td>\n",
              "      <td>b Reviewed August 15, 2020</td>\n",
              "      <td>b Date of visit: August 2020</td>\n",
              "      <td>The Four Leafed Clover</td>\n",
              "      <td>1</td>\n",
              "      <td>as i went, there were enough parking space, th...</td>\n",
              "    </tr>\n",
              "    <tr>\n",
              "      <th>3</th>\n",
              "      <td>b Good Food and Ambience   Food</td>\n",
              "      <td>b Reviewed February 9, 2020</td>\n",
              "      <td>b Date of visit: February 2020</td>\n",
              "      <td>The Four Leafed Clover</td>\n",
              "      <td>1</td>\n",
              "      <td>good food and ambience   food and ambience was...</td>\n",
              "    </tr>\n",
              "    <tr>\n",
              "      <th>4</th>\n",
              "      <td>b Loved everything about The Four Leafed Clover</td>\n",
              "      <td>b Reviewed January 17, 2020</td>\n",
              "      <td>b Date of visit: January 2020</td>\n",
              "      <td>The Four Leafed Clover</td>\n",
              "      <td>1</td>\n",
              "      <td>excellent quiet and clean place for a relaxed ...</td>\n",
              "    </tr>\n",
              "  </tbody>\n",
              "</table>\n",
              "</div>"
            ],
            "text/plain": [
              "                                              Title  ...                                review_preprocessed\n",
              "0                             b Highly recommended   ...  we went for lunch. from very first their part ...\n",
              "1                 b Excellent food, great ambience   ...  great service and delicious food. we had the l...\n",
              "2                       b Excellent Food and Place   ...  as i went, there were enough parking space, th...\n",
              "3                  b Good Food and Ambience   Food   ...  good food and ambience   food and ambience was...\n",
              "4  b Loved everything about The Four Leafed Clover   ...  excellent quiet and clean place for a relaxed ...\n",
              "\n",
              "[5 rows x 6 columns]"
            ]
          },
          "metadata": {
            "tags": []
          },
          "execution_count": 58
        }
      ]
    },
    {
      "cell_type": "code",
      "metadata": {
        "colab": {
          "base_uri": "https://localhost:8080/"
        },
        "id": "L6FhyEFTe6zs",
        "outputId": "9bc5410e-54b5-415f-976c-8df75494ed07"
      },
      "source": [
        "df_final.shape"
      ],
      "execution_count": null,
      "outputs": [
        {
          "output_type": "execute_result",
          "data": {
            "text/plain": [
              "(3861, 6)"
            ]
          },
          "metadata": {
            "tags": []
          },
          "execution_count": 59
        }
      ]
    },
    {
      "cell_type": "code",
      "metadata": {
        "id": "50tWmGcf_fZP"
      },
      "source": [
        "df_pred = pd.DataFrame(preds, columns = ['Negative_score','Positive_score'])"
      ],
      "execution_count": null,
      "outputs": []
    },
    {
      "cell_type": "code",
      "metadata": {
        "id": "nGTkoov6_0C_"
      },
      "source": [
        "# Merge df_final & df_pred \n",
        "df_final = df_final.merge(df_pred, left_index=True, right_index=True)"
      ],
      "execution_count": null,
      "outputs": []
    },
    {
      "cell_type": "code",
      "metadata": {
        "colab": {
          "base_uri": "https://localhost:8080/",
          "height": 657
        },
        "id": "qXUGMFWEAR5G",
        "outputId": "dd4a187b-1338-42c8-96d5-3f32a26ff5c5"
      },
      "source": [
        "df_final"
      ],
      "execution_count": null,
      "outputs": [
        {
          "output_type": "execute_result",
          "data": {
            "text/html": [
              "<div>\n",
              "<style scoped>\n",
              "    .dataframe tbody tr th:only-of-type {\n",
              "        vertical-align: middle;\n",
              "    }\n",
              "\n",
              "    .dataframe tbody tr th {\n",
              "        vertical-align: top;\n",
              "    }\n",
              "\n",
              "    .dataframe thead th {\n",
              "        text-align: right;\n",
              "    }\n",
              "</style>\n",
              "<table border=\"1\" class=\"dataframe\">\n",
              "  <thead>\n",
              "    <tr style=\"text-align: right;\">\n",
              "      <th></th>\n",
              "      <th>Title</th>\n",
              "      <th>ReviewDate</th>\n",
              "      <th>Stay Date</th>\n",
              "      <th>Restaurant_Name</th>\n",
              "      <th>Review_Sentiment</th>\n",
              "      <th>review_preprocessed</th>\n",
              "      <th>Negative_score</th>\n",
              "      <th>Positive_score</th>\n",
              "    </tr>\n",
              "  </thead>\n",
              "  <tbody>\n",
              "    <tr>\n",
              "      <th>0</th>\n",
              "      <td>b Highly recommended</td>\n",
              "      <td>b Reviewed September 14, 2020</td>\n",
              "      <td>b Date of visit: September 2020</td>\n",
              "      <td>The Four Leafed Clover</td>\n",
              "      <td>1</td>\n",
              "      <td>we went for lunch. from very first their part ...</td>\n",
              "      <td>0.000348</td>\n",
              "      <td>0.999652</td>\n",
              "    </tr>\n",
              "    <tr>\n",
              "      <th>1</th>\n",
              "      <td>b Excellent food, great ambience</td>\n",
              "      <td>b Reviewed September 5, 2020</td>\n",
              "      <td>b Date of visit: September 2020</td>\n",
              "      <td>The Four Leafed Clover</td>\n",
              "      <td>1</td>\n",
              "      <td>great service and delicious food. we had the l...</td>\n",
              "      <td>0.000397</td>\n",
              "      <td>0.999603</td>\n",
              "    </tr>\n",
              "    <tr>\n",
              "      <th>2</th>\n",
              "      <td>b Excellent Food and Place</td>\n",
              "      <td>b Reviewed August 15, 2020</td>\n",
              "      <td>b Date of visit: August 2020</td>\n",
              "      <td>The Four Leafed Clover</td>\n",
              "      <td>1</td>\n",
              "      <td>as i went, there were enough parking space, th...</td>\n",
              "      <td>0.998848</td>\n",
              "      <td>0.001152</td>\n",
              "    </tr>\n",
              "    <tr>\n",
              "      <th>3</th>\n",
              "      <td>b Good Food and Ambience   Food</td>\n",
              "      <td>b Reviewed February 9, 2020</td>\n",
              "      <td>b Date of visit: February 2020</td>\n",
              "      <td>The Four Leafed Clover</td>\n",
              "      <td>1</td>\n",
              "      <td>good food and ambience   food and ambience was...</td>\n",
              "      <td>0.000776</td>\n",
              "      <td>0.999224</td>\n",
              "    </tr>\n",
              "    <tr>\n",
              "      <th>4</th>\n",
              "      <td>b Loved everything about The Four Leafed Clover</td>\n",
              "      <td>b Reviewed January 17, 2020</td>\n",
              "      <td>b Date of visit: January 2020</td>\n",
              "      <td>The Four Leafed Clover</td>\n",
              "      <td>1</td>\n",
              "      <td>excellent quiet and clean place for a relaxed ...</td>\n",
              "      <td>0.000370</td>\n",
              "      <td>0.999630</td>\n",
              "    </tr>\n",
              "    <tr>\n",
              "      <th>...</th>\n",
              "      <td>...</td>\n",
              "      <td>...</td>\n",
              "      <td>...</td>\n",
              "      <td>...</td>\n",
              "      <td>...</td>\n",
              "      <td>...</td>\n",
              "      <td>...</td>\n",
              "      <td>...</td>\n",
              "    </tr>\n",
              "    <tr>\n",
              "      <th>3856</th>\n",
              "      <td>b \\xf0\\x9f\\x8e\\x82\\xf0\\x9f\\x8e\\x82</td>\n",
              "      <td>b Reviewed July 11, 2020</td>\n",
              "      <td>b Date of visit: July 2020</td>\n",
              "      <td>Royal Thai - Cinnamon Lakeside</td>\n",
              "      <td>1</td>\n",
              "      <td>nice experience.. nice food.had a anniversary ...</td>\n",
              "      <td>0.000606</td>\n",
              "      <td>0.999394</td>\n",
              "    </tr>\n",
              "    <tr>\n",
              "      <th>3857</th>\n",
              "      <td>b Best Thai restaurant in Colombo</td>\n",
              "      <td>b Reviewed July 7, 2020</td>\n",
              "      <td>b Date of visit: July 2020</td>\n",
              "      <td>Royal Thai - Cinnamon Lakeside</td>\n",
              "      <td>1</td>\n",
              "      <td>we visited the royal thai restaurant of cinnam...</td>\n",
              "      <td>0.000374</td>\n",
              "      <td>0.999626</td>\n",
              "    </tr>\n",
              "    <tr>\n",
              "      <th>3858</th>\n",
              "      <td>b High quality  food, nice presentation, lovel...</td>\n",
              "      <td>b Reviewed March 29, 2020</td>\n",
              "      <td>b Date of visit: March 2020</td>\n",
              "      <td>Royal Thai - Cinnamon Lakeside</td>\n",
              "      <td>1</td>\n",
              "      <td>due to the fact that all local restaurants wer...</td>\n",
              "      <td>0.000322</td>\n",
              "      <td>0.999678</td>\n",
              "    </tr>\n",
              "    <tr>\n",
              "      <th>3859</th>\n",
              "      <td>b Superb</td>\n",
              "      <td>b Reviewed March 25, 2020</td>\n",
              "      <td>b Date of visit: March 2020</td>\n",
              "      <td>Royal Thai - Cinnamon Lakeside</td>\n",
              "      <td>1</td>\n",
              "      <td>we ate here on 5/3/20 whilst staying at the ci...</td>\n",
              "      <td>0.000375</td>\n",
              "      <td>0.999625</td>\n",
              "    </tr>\n",
              "    <tr>\n",
              "      <th>3860</th>\n",
              "      <td>b Wonderful food</td>\n",
              "      <td>b Reviewed March 19, 2020</td>\n",
              "      <td>b Date of visit: March 2020</td>\n",
              "      <td>Royal Thai - Cinnamon Lakeside</td>\n",
              "      <td>1</td>\n",
              "      <td>we have just visited this restaurant within a ...</td>\n",
              "      <td>0.001031</td>\n",
              "      <td>0.998969</td>\n",
              "    </tr>\n",
              "  </tbody>\n",
              "</table>\n",
              "<p>3861 rows × 8 columns</p>\n",
              "</div>"
            ],
            "text/plain": [
              "                                                  Title  ... Positive_score\n",
              "0                                 b Highly recommended   ...       0.999652\n",
              "1                     b Excellent food, great ambience   ...       0.999603\n",
              "2                           b Excellent Food and Place   ...       0.001152\n",
              "3                      b Good Food and Ambience   Food   ...       0.999224\n",
              "4      b Loved everything about The Four Leafed Clover   ...       0.999630\n",
              "...                                                 ...  ...            ...\n",
              "3856                b \\xf0\\x9f\\x8e\\x82\\xf0\\x9f\\x8e\\x82   ...       0.999394\n",
              "3857                 b Best Thai restaurant in Colombo   ...       0.999626\n",
              "3858  b High quality  food, nice presentation, lovel...  ...       0.999678\n",
              "3859                                          b Superb   ...       0.999625\n",
              "3860                                  b Wonderful food   ...       0.998969\n",
              "\n",
              "[3861 rows x 8 columns]"
            ]
          },
          "metadata": {
            "tags": []
          },
          "execution_count": 62
        }
      ]
    },
    {
      "cell_type": "code",
      "metadata": {
        "id": "1AuJqXP-AT00"
      },
      "source": [
        "df_final = df_final.drop(['review_preprocessed','Review_Sentiment'], axis=1)\n",
        "df_group = df_final.groupby('Restaurant_Name').mean()"
      ],
      "execution_count": null,
      "outputs": []
    },
    {
      "cell_type": "code",
      "metadata": {
        "id": "zO7Z9K2vBJA7"
      },
      "source": [
        "df_group = df_group.sort_values(by = ['Positive_score'], ascending=False)"
      ],
      "execution_count": null,
      "outputs": []
    },
    {
      "cell_type": "code",
      "metadata": {
        "colab": {
          "base_uri": "https://localhost:8080/",
          "height": 450
        },
        "id": "Zk7SPd-HBLvz",
        "outputId": "29ef9f7f-eaec-41a5-db09-8d17eeca3048"
      },
      "source": [
        "df_group"
      ],
      "execution_count": null,
      "outputs": [
        {
          "output_type": "execute_result",
          "data": {
            "text/html": [
              "<div>\n",
              "<style scoped>\n",
              "    .dataframe tbody tr th:only-of-type {\n",
              "        vertical-align: middle;\n",
              "    }\n",
              "\n",
              "    .dataframe tbody tr th {\n",
              "        vertical-align: top;\n",
              "    }\n",
              "\n",
              "    .dataframe thead th {\n",
              "        text-align: right;\n",
              "    }\n",
              "</style>\n",
              "<table border=\"1\" class=\"dataframe\">\n",
              "  <thead>\n",
              "    <tr style=\"text-align: right;\">\n",
              "      <th></th>\n",
              "      <th>Negative_score</th>\n",
              "      <th>Positive_score</th>\n",
              "    </tr>\n",
              "    <tr>\n",
              "      <th>Restaurant_Name</th>\n",
              "      <th></th>\n",
              "      <th></th>\n",
              "    </tr>\n",
              "  </thead>\n",
              "  <tbody>\n",
              "    <tr>\n",
              "      <th>Cafe993 Restaurant</th>\n",
              "      <td>0.000359</td>\n",
              "      <td>0.999641</td>\n",
              "    </tr>\n",
              "    <tr>\n",
              "      <th>Baked - Dessert &amp; Coffee House</th>\n",
              "      <td>0.000359</td>\n",
              "      <td>0.999641</td>\n",
              "    </tr>\n",
              "    <tr>\n",
              "      <th>Caterina Pizzeria</th>\n",
              "      <td>0.000361</td>\n",
              "      <td>0.999639</td>\n",
              "    </tr>\n",
              "    <tr>\n",
              "      <th>The Sandwich Factory</th>\n",
              "      <td>0.000366</td>\n",
              "      <td>0.999634</td>\n",
              "    </tr>\n",
              "    <tr>\n",
              "      <th>Waves Bar &amp; Restaurant</th>\n",
              "      <td>0.000369</td>\n",
              "      <td>0.999631</td>\n",
              "    </tr>\n",
              "    <tr>\n",
              "      <th>...</th>\n",
              "      <td>...</td>\n",
              "      <td>...</td>\n",
              "    </tr>\n",
              "    <tr>\n",
              "      <th>The Grove</th>\n",
              "      <td>0.499397</td>\n",
              "      <td>0.500603</td>\n",
              "    </tr>\n",
              "    <tr>\n",
              "      <th>Il Ponte</th>\n",
              "      <td>0.499622</td>\n",
              "      <td>0.500378</td>\n",
              "    </tr>\n",
              "    <tr>\n",
              "      <th>Hancook kitchen</th>\n",
              "      <td>0.499724</td>\n",
              "      <td>0.500276</td>\n",
              "    </tr>\n",
              "    <tr>\n",
              "      <th>Flower Gate Chinese Restaurant</th>\n",
              "      <td>0.570600</td>\n",
              "      <td>0.429400</td>\n",
              "    </tr>\n",
              "    <tr>\n",
              "      <th>Ranbath</th>\n",
              "      <td>0.570672</td>\n",
              "      <td>0.429328</td>\n",
              "    </tr>\n",
              "  </tbody>\n",
              "</table>\n",
              "<p>439 rows × 2 columns</p>\n",
              "</div>"
            ],
            "text/plain": [
              "                                Negative_score  Positive_score\n",
              "Restaurant_Name                                               \n",
              "Cafe993 Restaurant                    0.000359        0.999641\n",
              "Baked - Dessert & Coffee House        0.000359        0.999641\n",
              "Caterina Pizzeria                     0.000361        0.999639\n",
              "The Sandwich Factory                  0.000366        0.999634\n",
              "Waves Bar & Restaurant                0.000369        0.999631\n",
              "...                                        ...             ...\n",
              "The Grove                             0.499397        0.500603\n",
              "Il Ponte                              0.499622        0.500378\n",
              "Hancook kitchen                       0.499724        0.500276\n",
              "Flower Gate Chinese Restaurant        0.570600        0.429400\n",
              "Ranbath                               0.570672        0.429328\n",
              "\n",
              "[439 rows x 2 columns]"
            ]
          },
          "metadata": {
            "tags": []
          },
          "execution_count": 65
        }
      ]
    },
    {
      "cell_type": "code",
      "metadata": {
        "id": "hCCYx2w3BxBI"
      },
      "source": [
        "df_restaurant = df_group.reset_index(drop=False)"
      ],
      "execution_count": null,
      "outputs": []
    },
    {
      "cell_type": "code",
      "metadata": {
        "colab": {
          "base_uri": "https://localhost:8080/",
          "height": 419
        },
        "id": "vd9_mQixCN8w",
        "outputId": "1fdfd8a6-dd62-4fa0-fd01-4267096fc259"
      },
      "source": [
        "df_restaurant"
      ],
      "execution_count": null,
      "outputs": [
        {
          "output_type": "execute_result",
          "data": {
            "text/html": [
              "<div>\n",
              "<style scoped>\n",
              "    .dataframe tbody tr th:only-of-type {\n",
              "        vertical-align: middle;\n",
              "    }\n",
              "\n",
              "    .dataframe tbody tr th {\n",
              "        vertical-align: top;\n",
              "    }\n",
              "\n",
              "    .dataframe thead th {\n",
              "        text-align: right;\n",
              "    }\n",
              "</style>\n",
              "<table border=\"1\" class=\"dataframe\">\n",
              "  <thead>\n",
              "    <tr style=\"text-align: right;\">\n",
              "      <th></th>\n",
              "      <th>Restaurant_Name</th>\n",
              "      <th>Negative_score</th>\n",
              "      <th>Positive_score</th>\n",
              "    </tr>\n",
              "  </thead>\n",
              "  <tbody>\n",
              "    <tr>\n",
              "      <th>0</th>\n",
              "      <td>Cafe993 Restaurant</td>\n",
              "      <td>0.000359</td>\n",
              "      <td>0.999641</td>\n",
              "    </tr>\n",
              "    <tr>\n",
              "      <th>1</th>\n",
              "      <td>Baked - Dessert &amp; Coffee House</td>\n",
              "      <td>0.000359</td>\n",
              "      <td>0.999641</td>\n",
              "    </tr>\n",
              "    <tr>\n",
              "      <th>2</th>\n",
              "      <td>Caterina Pizzeria</td>\n",
              "      <td>0.000361</td>\n",
              "      <td>0.999639</td>\n",
              "    </tr>\n",
              "    <tr>\n",
              "      <th>3</th>\n",
              "      <td>The Sandwich Factory</td>\n",
              "      <td>0.000366</td>\n",
              "      <td>0.999634</td>\n",
              "    </tr>\n",
              "    <tr>\n",
              "      <th>4</th>\n",
              "      <td>Waves Bar &amp; Restaurant</td>\n",
              "      <td>0.000369</td>\n",
              "      <td>0.999631</td>\n",
              "    </tr>\n",
              "    <tr>\n",
              "      <th>...</th>\n",
              "      <td>...</td>\n",
              "      <td>...</td>\n",
              "      <td>...</td>\n",
              "    </tr>\n",
              "    <tr>\n",
              "      <th>434</th>\n",
              "      <td>The Grove</td>\n",
              "      <td>0.499397</td>\n",
              "      <td>0.500603</td>\n",
              "    </tr>\n",
              "    <tr>\n",
              "      <th>435</th>\n",
              "      <td>Il Ponte</td>\n",
              "      <td>0.499622</td>\n",
              "      <td>0.500378</td>\n",
              "    </tr>\n",
              "    <tr>\n",
              "      <th>436</th>\n",
              "      <td>Hancook kitchen</td>\n",
              "      <td>0.499724</td>\n",
              "      <td>0.500276</td>\n",
              "    </tr>\n",
              "    <tr>\n",
              "      <th>437</th>\n",
              "      <td>Flower Gate Chinese Restaurant</td>\n",
              "      <td>0.570600</td>\n",
              "      <td>0.429400</td>\n",
              "    </tr>\n",
              "    <tr>\n",
              "      <th>438</th>\n",
              "      <td>Ranbath</td>\n",
              "      <td>0.570672</td>\n",
              "      <td>0.429328</td>\n",
              "    </tr>\n",
              "  </tbody>\n",
              "</table>\n",
              "<p>439 rows × 3 columns</p>\n",
              "</div>"
            ],
            "text/plain": [
              "                    Restaurant_Name  Negative_score  Positive_score\n",
              "0                Cafe993 Restaurant        0.000359        0.999641\n",
              "1    Baked - Dessert & Coffee House        0.000359        0.999641\n",
              "2                 Caterina Pizzeria        0.000361        0.999639\n",
              "3              The Sandwich Factory        0.000366        0.999634\n",
              "4            Waves Bar & Restaurant        0.000369        0.999631\n",
              "..                              ...             ...             ...\n",
              "434                       The Grove        0.499397        0.500603\n",
              "435                        Il Ponte        0.499622        0.500378\n",
              "436                 Hancook kitchen        0.499724        0.500276\n",
              "437  Flower Gate Chinese Restaurant        0.570600        0.429400\n",
              "438                         Ranbath        0.570672        0.429328\n",
              "\n",
              "[439 rows x 3 columns]"
            ]
          },
          "metadata": {
            "tags": []
          },
          "execution_count": 67
        }
      ]
    },
    {
      "cell_type": "code",
      "metadata": {
        "id": "uKjZUSjenT4B"
      },
      "source": [
        "df_restaurant = df_restaurant.rename(columns = {'Restaurant_Name':'Name'})"
      ],
      "execution_count": null,
      "outputs": []
    },
    {
      "cell_type": "code",
      "metadata": {
        "colab": {
          "base_uri": "https://localhost:8080/",
          "height": 419
        },
        "id": "5ACcPPU2nj0b",
        "outputId": "39095241-02e4-44ed-a479-4ee486ea9ab4"
      },
      "source": [
        "df_restaurant"
      ],
      "execution_count": null,
      "outputs": [
        {
          "output_type": "execute_result",
          "data": {
            "text/html": [
              "<div>\n",
              "<style scoped>\n",
              "    .dataframe tbody tr th:only-of-type {\n",
              "        vertical-align: middle;\n",
              "    }\n",
              "\n",
              "    .dataframe tbody tr th {\n",
              "        vertical-align: top;\n",
              "    }\n",
              "\n",
              "    .dataframe thead th {\n",
              "        text-align: right;\n",
              "    }\n",
              "</style>\n",
              "<table border=\"1\" class=\"dataframe\">\n",
              "  <thead>\n",
              "    <tr style=\"text-align: right;\">\n",
              "      <th></th>\n",
              "      <th>Name</th>\n",
              "      <th>Negative_score</th>\n",
              "      <th>Positive_score</th>\n",
              "    </tr>\n",
              "  </thead>\n",
              "  <tbody>\n",
              "    <tr>\n",
              "      <th>0</th>\n",
              "      <td>Cafe993 Restaurant</td>\n",
              "      <td>0.000359</td>\n",
              "      <td>0.999641</td>\n",
              "    </tr>\n",
              "    <tr>\n",
              "      <th>1</th>\n",
              "      <td>Baked - Dessert &amp; Coffee House</td>\n",
              "      <td>0.000359</td>\n",
              "      <td>0.999641</td>\n",
              "    </tr>\n",
              "    <tr>\n",
              "      <th>2</th>\n",
              "      <td>Caterina Pizzeria</td>\n",
              "      <td>0.000361</td>\n",
              "      <td>0.999639</td>\n",
              "    </tr>\n",
              "    <tr>\n",
              "      <th>3</th>\n",
              "      <td>The Sandwich Factory</td>\n",
              "      <td>0.000366</td>\n",
              "      <td>0.999634</td>\n",
              "    </tr>\n",
              "    <tr>\n",
              "      <th>4</th>\n",
              "      <td>Waves Bar &amp; Restaurant</td>\n",
              "      <td>0.000369</td>\n",
              "      <td>0.999631</td>\n",
              "    </tr>\n",
              "    <tr>\n",
              "      <th>...</th>\n",
              "      <td>...</td>\n",
              "      <td>...</td>\n",
              "      <td>...</td>\n",
              "    </tr>\n",
              "    <tr>\n",
              "      <th>434</th>\n",
              "      <td>The Grove</td>\n",
              "      <td>0.499397</td>\n",
              "      <td>0.500603</td>\n",
              "    </tr>\n",
              "    <tr>\n",
              "      <th>435</th>\n",
              "      <td>Il Ponte</td>\n",
              "      <td>0.499622</td>\n",
              "      <td>0.500378</td>\n",
              "    </tr>\n",
              "    <tr>\n",
              "      <th>436</th>\n",
              "      <td>Hancook kitchen</td>\n",
              "      <td>0.499724</td>\n",
              "      <td>0.500276</td>\n",
              "    </tr>\n",
              "    <tr>\n",
              "      <th>437</th>\n",
              "      <td>Flower Gate Chinese Restaurant</td>\n",
              "      <td>0.570600</td>\n",
              "      <td>0.429400</td>\n",
              "    </tr>\n",
              "    <tr>\n",
              "      <th>438</th>\n",
              "      <td>Ranbath</td>\n",
              "      <td>0.570672</td>\n",
              "      <td>0.429328</td>\n",
              "    </tr>\n",
              "  </tbody>\n",
              "</table>\n",
              "<p>439 rows × 3 columns</p>\n",
              "</div>"
            ],
            "text/plain": [
              "                               Name  Negative_score  Positive_score\n",
              "0                Cafe993 Restaurant        0.000359        0.999641\n",
              "1    Baked - Dessert & Coffee House        0.000359        0.999641\n",
              "2                 Caterina Pizzeria        0.000361        0.999639\n",
              "3              The Sandwich Factory        0.000366        0.999634\n",
              "4            Waves Bar & Restaurant        0.000369        0.999631\n",
              "..                              ...             ...             ...\n",
              "434                       The Grove        0.499397        0.500603\n",
              "435                        Il Ponte        0.499622        0.500378\n",
              "436                 Hancook kitchen        0.499724        0.500276\n",
              "437  Flower Gate Chinese Restaurant        0.570600        0.429400\n",
              "438                         Ranbath        0.570672        0.429328\n",
              "\n",
              "[439 rows x 3 columns]"
            ]
          },
          "metadata": {
            "tags": []
          },
          "execution_count": 69
        }
      ]
    },
    {
      "cell_type": "code",
      "metadata": {
        "id": "Uhp87YJJCPlv"
      },
      "source": [
        "df_restaurant.to_csv('Restaurants_with_sentiment_scores_BERT.csv', index=False)"
      ],
      "execution_count": null,
      "outputs": []
    },
    {
      "cell_type": "markdown",
      "metadata": {
        "id": "Bo0B3j8E5JRe"
      },
      "source": [
        "### Performance comparision between SVM with BOW features & fine tuned BERT model."
      ]
    },
    {
      "cell_type": "code",
      "metadata": {
        "id": "iSmu9nMxCgu9",
        "colab": {
          "base_uri": "https://localhost:8080/",
          "height": 111
        },
        "outputId": "59e43beb-88ce-479d-b3fc-9bcac9d897f6"
      },
      "source": [
        "Results={\n",
        "    'Model':['BOW SVM model','BERT model'],\n",
        "    'f1-score(weighted)':[0.89, 0.95],                # f1-score is weighted average\n",
        "    'AUC':[0.815, 0.99]                     # Calculated from ROC curve (AUC --> Area under ROC curve)\n",
        "}\n",
        "\n",
        "results_df=pd.DataFrame(Results)\n",
        "results_df = results_df.sort_values(by = ['AUC'], ascending=False).reset_index(drop=True)\n",
        "results_df.index+=1\n",
        "results_df"
      ],
      "execution_count": null,
      "outputs": [
        {
          "output_type": "execute_result",
          "data": {
            "text/html": [
              "<div>\n",
              "<style scoped>\n",
              "    .dataframe tbody tr th:only-of-type {\n",
              "        vertical-align: middle;\n",
              "    }\n",
              "\n",
              "    .dataframe tbody tr th {\n",
              "        vertical-align: top;\n",
              "    }\n",
              "\n",
              "    .dataframe thead th {\n",
              "        text-align: right;\n",
              "    }\n",
              "</style>\n",
              "<table border=\"1\" class=\"dataframe\">\n",
              "  <thead>\n",
              "    <tr style=\"text-align: right;\">\n",
              "      <th></th>\n",
              "      <th>Model</th>\n",
              "      <th>f1-score(weighted)</th>\n",
              "      <th>AUC</th>\n",
              "    </tr>\n",
              "  </thead>\n",
              "  <tbody>\n",
              "    <tr>\n",
              "      <th>1</th>\n",
              "      <td>BERT model</td>\n",
              "      <td>0.95</td>\n",
              "      <td>0.990</td>\n",
              "    </tr>\n",
              "    <tr>\n",
              "      <th>2</th>\n",
              "      <td>BOW SVM model</td>\n",
              "      <td>0.89</td>\n",
              "      <td>0.815</td>\n",
              "    </tr>\n",
              "  </tbody>\n",
              "</table>\n",
              "</div>"
            ],
            "text/plain": [
              "           Model  f1-score(weighted)    AUC\n",
              "1     BERT model                0.95  0.990\n",
              "2  BOW SVM model                0.89  0.815"
            ]
          },
          "metadata": {
            "tags": []
          },
          "execution_count": 10
        }
      ]
    },
    {
      "cell_type": "code",
      "metadata": {
        "id": "vSqW4R6a6EMD"
      },
      "source": [
        ""
      ],
      "execution_count": null,
      "outputs": []
    }
  ]
}